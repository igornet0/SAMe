{
 "cells": [
  {
   "cell_type": "code",
   "execution_count": 1,
   "id": "541b22e0",
   "metadata": {},
   "outputs": [
    {
     "name": "stderr",
     "output_type": "stream",
     "text": [
      "2025-08-14 10:02:25,105 - INFO - Registered module: same_core\n",
      "2025-08-14 10:02:25,106 - INFO - Registered module: same_clear\n",
      "2025-08-14 10:02:25,106 - INFO - Registered module: same_search\n",
      "2025-08-14 10:02:25,106 - INFO - Registered module: same_api\n",
      "2025-08-14 10:02:25,107 - INFO - Backward compatibility setup completed\n"
     ]
    }
   ],
   "source": [
    "import pandas as pd\n",
    "from src.data_manager import data_helper"
   ]
  },
  {
   "cell_type": "code",
   "execution_count": 2,
   "id": "d256aa3a",
   "metadata": {},
   "outputs": [
    {
     "data": {
      "text/plain": [
       "1340012"
      ]
     },
     "execution_count": 2,
     "metadata": {},
     "output_type": "execute_result"
    }
   ],
   "source": [
    "result_data = pd.read_csv(data_helper[\"output\"] / \"full_dataset_results_20250801_114232.csv\")\n",
    "len(result_data)"
   ]
  },
  {
   "cell_type": "code",
   "execution_count": 3,
   "id": "2b39d843",
   "metadata": {},
   "outputs": [
    {
     "name": "stdout",
     "output_type": "stream",
     "text": [
      "130303\n"
     ]
    }
   ],
   "source": [
    "original_data = pd.read_excel(data_helper[\"input\"] / \"main_dataset.xlsx\")\n",
    "print(len(original_data))"
   ]
  },
  {
   "cell_type": "code",
   "execution_count": 4,
   "id": "455c22b2",
   "metadata": {},
   "outputs": [
    {
     "data": {
      "text/html": [
       "<div>\n",
       "<style scoped>\n",
       "    .dataframe tbody tr th:only-of-type {\n",
       "        vertical-align: middle;\n",
       "    }\n",
       "\n",
       "    .dataframe tbody tr th {\n",
       "        vertical-align: top;\n",
       "    }\n",
       "\n",
       "    .dataframe thead th {\n",
       "        text-align: right;\n",
       "    }\n",
       "</style>\n",
       "<table border=\"1\" class=\"dataframe\">\n",
       "  <thead>\n",
       "    <tr style=\"text-align: right;\">\n",
       "      <th></th>\n",
       "      <th>Код</th>\n",
       "      <th>Наименование</th>\n",
       "      <th>НаименованиеПолное</th>\n",
       "      <th>Группа</th>\n",
       "      <th>ВидНоменклатуры</th>\n",
       "      <th>ЕдиницаИзмерения</th>\n",
       "    </tr>\n",
       "  </thead>\n",
       "  <tbody>\n",
       "    <tr>\n",
       "      <th>0</th>\n",
       "      <td>НИ-IS0032430</td>\n",
       "      <td>Cветильник LED панель 50W 6500k IP40 1200мм ДП...</td>\n",
       "      <td>Cветильник LED панель 50W 6500k IP40 1200мм ДП...</td>\n",
       "      <td>АВАНСОВЫЙ ОТЧЕТ</td>\n",
       "      <td>Инвентарь и хозяйственные принадлежности</td>\n",
       "      <td>шт</td>\n",
       "    </tr>\n",
       "    <tr>\n",
       "      <th>1</th>\n",
       "      <td>НИ-IS0040225</td>\n",
       "      <td>Cветильник потолочный,Osairous,Белый, 30Вт LED...</td>\n",
       "      <td>Cветильник потолочный,Osairous,Белый, 30Вт LED...</td>\n",
       "      <td>АВАНСОВЫЙ ОТЧЕТ</td>\n",
       "      <td>Сырье и материалы</td>\n",
       "      <td>шт</td>\n",
       "    </tr>\n",
       "    <tr>\n",
       "      <th>2</th>\n",
       "      <td>НИ-IS0014483</td>\n",
       "      <td>Cистема IP-DECT Yealink W80DM контроллер микро...</td>\n",
       "      <td>Cистема IP-DECT Yealink W80DM контроллер микро...</td>\n",
       "      <td>АВАНСОВЫЙ ОТЧЕТ</td>\n",
       "      <td>Инвентарь и хозяйственные принадлежности</td>\n",
       "      <td>шт</td>\n",
       "    </tr>\n",
       "    <tr>\n",
       "      <th>3</th>\n",
       "      <td>НИ-IS0047648</td>\n",
       "      <td>Cпрей для ванной комнаты Sanfor (Санфор) 500мл</td>\n",
       "      <td>Cпрей для ванной комнаты Sanfor (Санфор) 500мл</td>\n",
       "      <td>АВАНСОВЫЙ ОТЧЕТ</td>\n",
       "      <td>Сырье и материалы</td>\n",
       "      <td>шт</td>\n",
       "    </tr>\n",
       "    <tr>\n",
       "      <th>4</th>\n",
       "      <td>НИ-IS0047649</td>\n",
       "      <td>Cпрей ультрабелый Sanfor (Санфор) 500мл</td>\n",
       "      <td>Cпрей ультрабелый Sanfor (Санфор) 500мл</td>\n",
       "      <td>АВАНСОВЫЙ ОТЧЕТ</td>\n",
       "      <td>Сырье и материалы</td>\n",
       "      <td>шт</td>\n",
       "    </tr>\n",
       "  </tbody>\n",
       "</table>\n",
       "</div>"
      ],
      "text/plain": [
       "            Код                                       Наименование  \\\n",
       "0  НИ-IS0032430  Cветильник LED панель 50W 6500k IP40 1200мм ДП...   \n",
       "1  НИ-IS0040225  Cветильник потолочный,Osairous,Белый, 30Вт LED...   \n",
       "2  НИ-IS0014483  Cистема IP-DECT Yealink W80DM контроллер микро...   \n",
       "3  НИ-IS0047648     Cпрей для ванной комнаты Sanfor (Санфор) 500мл   \n",
       "4  НИ-IS0047649            Cпрей ультрабелый Sanfor (Санфор) 500мл   \n",
       "\n",
       "                                  НаименованиеПолное           Группа  \\\n",
       "0  Cветильник LED панель 50W 6500k IP40 1200мм ДП...  АВАНСОВЫЙ ОТЧЕТ   \n",
       "1  Cветильник потолочный,Osairous,Белый, 30Вт LED...  АВАНСОВЫЙ ОТЧЕТ   \n",
       "2  Cистема IP-DECT Yealink W80DM контроллер микро...  АВАНСОВЫЙ ОТЧЕТ   \n",
       "3     Cпрей для ванной комнаты Sanfor (Санфор) 500мл  АВАНСОВЫЙ ОТЧЕТ   \n",
       "4            Cпрей ультрабелый Sanfor (Санфор) 500мл  АВАНСОВЫЙ ОТЧЕТ   \n",
       "\n",
       "                            ВидНоменклатуры ЕдиницаИзмерения  \n",
       "0  Инвентарь и хозяйственные принадлежности               шт  \n",
       "1                         Сырье и материалы               шт  \n",
       "2  Инвентарь и хозяйственные принадлежности               шт  \n",
       "3                         Сырье и материалы               шт  \n",
       "4                         Сырье и материалы               шт  "
      ]
     },
     "execution_count": 4,
     "metadata": {},
     "output_type": "execute_result"
    }
   ],
   "source": [
    "original_data.head()"
   ]
  },
  {
   "cell_type": "code",
   "execution_count": 5,
   "id": "acb5cd12",
   "metadata": {},
   "outputs": [
    {
     "data": {
      "text/plain": [
       "0         Cветильник LED панель 50W 6500k IP40 1200мм ДП...\n",
       "1         Cветильник потолочный,Osairous,Белый, 30Вт LED...\n",
       "2         Cистема IP-DECT Yealink W80DM контроллер микро...\n",
       "3            Cпрей для ванной комнаты Sanfor (Санфор) 500мл\n",
       "4                   Cпрей ультрабелый Sanfor (Санфор) 500мл\n",
       "                                ...                        \n",
       "130298    Ящик трансформаторный понижающий ЯТП-0,25-023 ...\n",
       "130299    Ящик трансформаторный понижающий ЯТП-0,25-21У3...\n",
       "130300                  Ящик ЩМП-2-0 36 (500х400х220), IP31\n",
       "130301    Ящик ЯРП-400А (IP54), тип ЯРП-П11-37-54У3 с пе...\n",
       "130302                                 Ящик ЯТП-0,25 220/12\n",
       "Name: Наименование, Length: 130303, dtype: object"
      ]
     },
     "execution_count": 5,
     "metadata": {},
     "output_type": "execute_result"
    }
   ],
   "source": [
    "original_data[\"Наименование\"]"
   ]
  },
  {
   "cell_type": "code",
   "execution_count": null,
   "id": "bb67036d",
   "metadata": {},
   "outputs": [],
   "source": []
  }
 ],
 "metadata": {
  "kernelspec": {
   "display_name": "Python 3",
   "language": "python",
   "name": "python3"
  },
  "language_info": {
   "codemirror_mode": {
    "name": "ipython",
    "version": 3
   },
   "file_extension": ".py",
   "mimetype": "text/x-python",
   "name": "python",
   "nbconvert_exporter": "python",
   "pygments_lexer": "ipython3",
   "version": "2.7.-1"
  }
 },
 "nbformat": 4,
 "nbformat_minor": 5
}
