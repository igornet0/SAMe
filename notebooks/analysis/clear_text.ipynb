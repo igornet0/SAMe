{
 "cells": [
  {
   "cell_type": "code",
   "execution_count": null,
   "id": "596f5437",
   "metadata": {},
   "outputs": [],
   "source": [
    "import sys\n",
    "sys.path.append('../../src')\n",
    "\n",
    "import pandas as pd\n",
    "import re \n",
    "from data_manager import data_helper\n",
    "from same_search.batch_processor import BatchProcessor"
   ]
  },
  {
   "cell_type": "code",
   "execution_count": 2,
   "id": "5ee5bc0c",
   "metadata": {},
   "outputs": [
    {
     "name": "stdout",
     "output_type": "stream",
     "text": [
      "130303\n"
     ]
    }
   ],
   "source": [
    "original_data = pd.read_excel(data_helper[\"input\"] / \"main_dataset.xlsx\")\n",
    "print(len(original_data))"
   ]
  },
  {
   "cell_type": "code",
   "execution_count": 4,
   "id": "b4cfda45",
   "metadata": {},
   "outputs": [
    {
     "data": {
      "application/vnd.microsoft.datawrangler.viewer.v0+json": {
       "columns": [
        {
         "name": "index",
         "rawType": "int64",
         "type": "integer"
        },
        {
         "name": "Код",
         "rawType": "object",
         "type": "string"
        },
        {
         "name": "Наименование",
         "rawType": "object",
         "type": "string"
        },
        {
         "name": "НаименованиеПолное",
         "rawType": "object",
         "type": "string"
        },
        {
         "name": "Группа",
         "rawType": "object",
         "type": "string"
        },
        {
         "name": "ВидНоменклатуры",
         "rawType": "object",
         "type": "string"
        },
        {
         "name": "ЕдиницаИзмерения",
         "rawType": "object",
         "type": "string"
        }
       ],
       "ref": "05f5fe18-e482-4941-83dd-3c35b2551f13",
       "rows": [
        [
         "0",
         "НИ-IS0032430",
         "Cветильник LED панель 50W 6500k IP40 1200мм ДПО-108 Призма Neox",
         "Cветильник LED панель 50W 6500k IP40 1200мм ДПО-108 Призма Neox",
         "АВАНСОВЫЙ ОТЧЕТ",
         "Инвентарь и хозяйственные принадлежности",
         "шт"
        ],
        [
         "1",
         "НИ-IS0040225",
         "Cветильник потолочный,Osairous,Белый, 30Вт LED, 6500K Светодиодная потолочная",
         "Cветильник потолочный,Osairous,Белый, 30Вт LED, 6500K Светодиодная потолочная",
         "АВАНСОВЫЙ ОТЧЕТ",
         "Сырье и материалы",
         "шт"
        ],
        [
         "2",
         "НИ-IS0014483",
         "Cистема IP-DECT Yealink W80DM контроллер микросота DECT",
         "Cистема IP-DECT Yealink W80DM контроллер микросота DECT",
         "АВАНСОВЫЙ ОТЧЕТ",
         "Инвентарь и хозяйственные принадлежности",
         "шт"
        ],
        [
         "3",
         "НИ-IS0047648",
         "Cпрей для ванной комнаты Sanfor (Санфор) 500мл",
         "Cпрей для ванной комнаты Sanfor (Санфор) 500мл",
         "АВАНСОВЫЙ ОТЧЕТ",
         "Сырье и материалы",
         "шт"
        ],
        [
         "4",
         "НИ-IS0047649",
         "Cпрей ультрабелый Sanfor (Санфор) 500мл",
         "Cпрей ультрабелый Sanfor (Санфор) 500мл",
         "АВАНСОВЫЙ ОТЧЕТ",
         "Сырье и материалы",
         "шт"
        ]
       ],
       "shape": {
        "columns": 6,
        "rows": 5
       }
      },
      "text/html": [
       "<div>\n",
       "<style scoped>\n",
       "    .dataframe tbody tr th:only-of-type {\n",
       "        vertical-align: middle;\n",
       "    }\n",
       "\n",
       "    .dataframe tbody tr th {\n",
       "        vertical-align: top;\n",
       "    }\n",
       "\n",
       "    .dataframe thead th {\n",
       "        text-align: right;\n",
       "    }\n",
       "</style>\n",
       "<table border=\"1\" class=\"dataframe\">\n",
       "  <thead>\n",
       "    <tr style=\"text-align: right;\">\n",
       "      <th></th>\n",
       "      <th>Код</th>\n",
       "      <th>Наименование</th>\n",
       "      <th>НаименованиеПолное</th>\n",
       "      <th>Группа</th>\n",
       "      <th>ВидНоменклатуры</th>\n",
       "      <th>ЕдиницаИзмерения</th>\n",
       "    </tr>\n",
       "  </thead>\n",
       "  <tbody>\n",
       "    <tr>\n",
       "      <th>0</th>\n",
       "      <td>НИ-IS0032430</td>\n",
       "      <td>Cветильник LED панель 50W 6500k IP40 1200мм ДП...</td>\n",
       "      <td>Cветильник LED панель 50W 6500k IP40 1200мм ДП...</td>\n",
       "      <td>АВАНСОВЫЙ ОТЧЕТ</td>\n",
       "      <td>Инвентарь и хозяйственные принадлежности</td>\n",
       "      <td>шт</td>\n",
       "    </tr>\n",
       "    <tr>\n",
       "      <th>1</th>\n",
       "      <td>НИ-IS0040225</td>\n",
       "      <td>Cветильник потолочный,Osairous,Белый, 30Вт LED...</td>\n",
       "      <td>Cветильник потолочный,Osairous,Белый, 30Вт LED...</td>\n",
       "      <td>АВАНСОВЫЙ ОТЧЕТ</td>\n",
       "      <td>Сырье и материалы</td>\n",
       "      <td>шт</td>\n",
       "    </tr>\n",
       "    <tr>\n",
       "      <th>2</th>\n",
       "      <td>НИ-IS0014483</td>\n",
       "      <td>Cистема IP-DECT Yealink W80DM контроллер микро...</td>\n",
       "      <td>Cистема IP-DECT Yealink W80DM контроллер микро...</td>\n",
       "      <td>АВАНСОВЫЙ ОТЧЕТ</td>\n",
       "      <td>Инвентарь и хозяйственные принадлежности</td>\n",
       "      <td>шт</td>\n",
       "    </tr>\n",
       "    <tr>\n",
       "      <th>3</th>\n",
       "      <td>НИ-IS0047648</td>\n",
       "      <td>Cпрей для ванной комнаты Sanfor (Санфор) 500мл</td>\n",
       "      <td>Cпрей для ванной комнаты Sanfor (Санфор) 500мл</td>\n",
       "      <td>АВАНСОВЫЙ ОТЧЕТ</td>\n",
       "      <td>Сырье и материалы</td>\n",
       "      <td>шт</td>\n",
       "    </tr>\n",
       "    <tr>\n",
       "      <th>4</th>\n",
       "      <td>НИ-IS0047649</td>\n",
       "      <td>Cпрей ультрабелый Sanfor (Санфор) 500мл</td>\n",
       "      <td>Cпрей ультрабелый Sanfor (Санфор) 500мл</td>\n",
       "      <td>АВАНСОВЫЙ ОТЧЕТ</td>\n",
       "      <td>Сырье и материалы</td>\n",
       "      <td>шт</td>\n",
       "    </tr>\n",
       "  </tbody>\n",
       "</table>\n",
       "</div>"
      ],
      "text/plain": [
       "            Код                                       Наименование  \\\n",
       "0  НИ-IS0032430  Cветильник LED панель 50W 6500k IP40 1200мм ДП...   \n",
       "1  НИ-IS0040225  Cветильник потолочный,Osairous,Белый, 30Вт LED...   \n",
       "2  НИ-IS0014483  Cистема IP-DECT Yealink W80DM контроллер микро...   \n",
       "3  НИ-IS0047648     Cпрей для ванной комнаты Sanfor (Санфор) 500мл   \n",
       "4  НИ-IS0047649            Cпрей ультрабелый Sanfor (Санфор) 500мл   \n",
       "\n",
       "                                  НаименованиеПолное           Группа  \\\n",
       "0  Cветильник LED панель 50W 6500k IP40 1200мм ДП...  АВАНСОВЫЙ ОТЧЕТ   \n",
       "1  Cветильник потолочный,Osairous,Белый, 30Вт LED...  АВАНСОВЫЙ ОТЧЕТ   \n",
       "2  Cистема IP-DECT Yealink W80DM контроллер микро...  АВАНСОВЫЙ ОТЧЕТ   \n",
       "3     Cпрей для ванной комнаты Sanfor (Санфор) 500мл  АВАНСОВЫЙ ОТЧЕТ   \n",
       "4            Cпрей ультрабелый Sanfor (Санфор) 500мл  АВАНСОВЫЙ ОТЧЕТ   \n",
       "\n",
       "                            ВидНоменклатуры ЕдиницаИзмерения  \n",
       "0  Инвентарь и хозяйственные принадлежности               шт  \n",
       "1                         Сырье и материалы               шт  \n",
       "2  Инвентарь и хозяйственные принадлежности               шт  \n",
       "3                         Сырье и материалы               шт  \n",
       "4                         Сырье и материалы               шт  "
      ]
     },
     "execution_count": 4,
     "metadata": {},
     "output_type": "execute_result"
    }
   ],
   "source": [
    "original_data.head()"
   ]
  },
  {
   "cell_type": "code",
   "execution_count": 3,
   "id": "a0e8a743",
   "metadata": {},
   "outputs": [
    {
     "name": "stdout",
     "output_type": "stream",
     "text": [
      "7185\n"
     ]
    }
   ],
   "source": [
    "dop_data = pd.read_excel(data_helper[\"input\"] / \"dop_data.xlsx\")\n",
    "print(len(dop_data))"
   ]
  },
  {
   "cell_type": "code",
   "execution_count": 5,
   "id": "4248f26b",
   "metadata": {},
   "outputs": [
    {
     "data": {
      "application/vnd.microsoft.datawrangler.viewer.v0+json": {
       "columns": [
        {
         "name": "index",
         "rawType": "int64",
         "type": "integer"
        },
        {
         "name": "Склад",
         "rawType": "object",
         "type": "string"
        },
        {
         "name": "Материал",
         "rawType": "float64",
         "type": "float"
        },
        {
         "name": "Наименование материала",
         "rawType": "object",
         "type": "string"
        },
        {
         "name": "БЕИ",
         "rawType": "object",
         "type": "string"
        },
        {
         "name": "место хранения",
         "rawType": "object",
         "type": "string"
        },
        {
         "name": "весовые характеристики",
         "rawType": "object",
         "type": "unknown"
        }
       ],
       "ref": "aee5e160-4ab7-4d1a-91f5-cfd05b123a17",
       "rows": [
        [
         "0",
         "R010",
         "20140460.0",
         "Бейсболка лет М027-03 р.61",
         "ШТ",
         "ТС",
         "0.0001"
        ],
        [
         "1",
         "R010",
         "20438940.0",
         "Бейсболка_РН_ХБ_То_54",
         "ШТ",
         "ТС",
         "0.0001"
        ],
        [
         "2",
         "R010",
         "20589892.0",
         "Бейсболка_РН_ХБТо_55-57",
         "ШТ",
         "ТС",
         "0.0001"
        ],
        [
         "3",
         "R010",
         "20589902.0",
         "Бейсболка_РН_ХБТо_58-61",
         "ШТ",
         "ТС",
         "0.0001"
        ],
        [
         "4",
         "R010",
         "20569863.0",
         "Белье 2/08/797 2/01/797, 128-132/182-188",
         "К-Т",
         "ТС",
         "0.0006"
        ]
       ],
       "shape": {
        "columns": 6,
        "rows": 5
       }
      },
      "text/html": [
       "<div>\n",
       "<style scoped>\n",
       "    .dataframe tbody tr th:only-of-type {\n",
       "        vertical-align: middle;\n",
       "    }\n",
       "\n",
       "    .dataframe tbody tr th {\n",
       "        vertical-align: top;\n",
       "    }\n",
       "\n",
       "    .dataframe thead th {\n",
       "        text-align: right;\n",
       "    }\n",
       "</style>\n",
       "<table border=\"1\" class=\"dataframe\">\n",
       "  <thead>\n",
       "    <tr style=\"text-align: right;\">\n",
       "      <th></th>\n",
       "      <th>Склад</th>\n",
       "      <th>Материал</th>\n",
       "      <th>Наименование материала</th>\n",
       "      <th>БЕИ</th>\n",
       "      <th>место хранения</th>\n",
       "      <th>весовые характеристики</th>\n",
       "    </tr>\n",
       "  </thead>\n",
       "  <tbody>\n",
       "    <tr>\n",
       "      <th>0</th>\n",
       "      <td>R010</td>\n",
       "      <td>20140460.0</td>\n",
       "      <td>Бейсболка лет М027-03 р.61</td>\n",
       "      <td>ШТ</td>\n",
       "      <td>ТС</td>\n",
       "      <td>0.0001</td>\n",
       "    </tr>\n",
       "    <tr>\n",
       "      <th>1</th>\n",
       "      <td>R010</td>\n",
       "      <td>20438940.0</td>\n",
       "      <td>Бейсболка_РН_ХБ_То_54</td>\n",
       "      <td>ШТ</td>\n",
       "      <td>ТС</td>\n",
       "      <td>0.0001</td>\n",
       "    </tr>\n",
       "    <tr>\n",
       "      <th>2</th>\n",
       "      <td>R010</td>\n",
       "      <td>20589892.0</td>\n",
       "      <td>Бейсболка_РН_ХБТо_55-57</td>\n",
       "      <td>ШТ</td>\n",
       "      <td>ТС</td>\n",
       "      <td>0.0001</td>\n",
       "    </tr>\n",
       "    <tr>\n",
       "      <th>3</th>\n",
       "      <td>R010</td>\n",
       "      <td>20589902.0</td>\n",
       "      <td>Бейсболка_РН_ХБТо_58-61</td>\n",
       "      <td>ШТ</td>\n",
       "      <td>ТС</td>\n",
       "      <td>0.0001</td>\n",
       "    </tr>\n",
       "    <tr>\n",
       "      <th>4</th>\n",
       "      <td>R010</td>\n",
       "      <td>20569863.0</td>\n",
       "      <td>Белье 2/08/797 2/01/797, 128-132/182-188</td>\n",
       "      <td>К-Т</td>\n",
       "      <td>ТС</td>\n",
       "      <td>0.0006</td>\n",
       "    </tr>\n",
       "  </tbody>\n",
       "</table>\n",
       "</div>"
      ],
      "text/plain": [
       "  Склад    Материал                    Наименование материала  БЕИ  \\\n",
       "0  R010  20140460.0                Бейсболка лет М027-03 р.61   ШТ   \n",
       "1  R010  20438940.0                     Бейсболка_РН_ХБ_То_54   ШТ   \n",
       "2  R010  20589892.0                   Бейсболка_РН_ХБТо_55-57   ШТ   \n",
       "3  R010  20589902.0                   Бейсболка_РН_ХБТо_58-61   ШТ   \n",
       "4  R010  20569863.0  Белье 2/08/797 2/01/797, 128-132/182-188  К-Т   \n",
       "\n",
       "  место хранения весовые характеристики  \n",
       "0             ТС                 0.0001  \n",
       "1             ТС                 0.0001  \n",
       "2             ТС                 0.0001  \n",
       "3             ТС                 0.0001  \n",
       "4             ТС                 0.0006  "
      ]
     },
     "execution_count": 5,
     "metadata": {},
     "output_type": "execute_result"
    }
   ],
   "source": [
    "dop_data.head()"
   ]
  }
 ],
 "metadata": {
  "kernelspec": {
   "display_name": ".venv",
   "language": "python",
   "name": "python3"
  },
  "language_info": {
   "codemirror_mode": {
    "name": "ipython",
    "version": 3
   },
   "file_extension": ".py",
   "mimetype": "text/x-python",
   "name": "python",
   "nbconvert_exporter": "python",
   "pygments_lexer": "ipython3",
   "version": "3.12.8"
  }
 },
 "nbformat": 4,
 "nbformat_minor": 5
}
