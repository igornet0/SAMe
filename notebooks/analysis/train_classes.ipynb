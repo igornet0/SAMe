{
 "cells": [
  {
   "cell_type": "code",
   "execution_count": 2,
   "id": "edcbbe32",
   "metadata": {},
   "outputs": [],
   "source": [
    "import sys\n",
    "sys.path.append('../../src')\n",
    "\n",
    "import pandas as pd\n",
    "import re \n",
    "from data_manager import data_helper"
   ]
  },
  {
   "cell_type": "code",
   "execution_count": 3,
   "id": "97bae1a0",
   "metadata": {},
   "outputs": [
    {
     "name": "stdout",
     "output_type": "stream",
     "text": [
      "130303\n"
     ]
    }
   ],
   "source": [
    "original_data = pd.read_excel(data_helper[\"input\"] / \"main_dataset.xlsx\")\n",
    "print(len(original_data))"
   ]
  },
  {
   "cell_type": "code",
   "execution_count": 4,
   "id": "4699f02e",
   "metadata": {},
   "outputs": [
    {
     "data": {
      "application/vnd.microsoft.datawrangler.viewer.v0+json": {
       "columns": [
        {
         "name": "index",
         "rawType": "int64",
         "type": "integer"
        },
        {
         "name": "Код",
         "rawType": "object",
         "type": "string"
        },
        {
         "name": "Наименование",
         "rawType": "object",
         "type": "string"
        },
        {
         "name": "НаименованиеПолное",
         "rawType": "object",
         "type": "string"
        },
        {
         "name": "Группа",
         "rawType": "object",
         "type": "string"
        },
        {
         "name": "ВидНоменклатуры",
         "rawType": "object",
         "type": "string"
        },
        {
         "name": "ЕдиницаИзмерения",
         "rawType": "object",
         "type": "string"
        }
       ],
       "ref": "80e3374a-744f-444a-81af-d65804916ede",
       "rows": [
        [
         "0",
         "НИ-IS0032430",
         "Cветильник LED панель 50W 6500k IP40 1200мм ДПО-108 Призма Neox",
         "Cветильник LED панель 50W 6500k IP40 1200мм ДПО-108 Призма Neox",
         "АВАНСОВЫЙ ОТЧЕТ",
         "Инвентарь и хозяйственные принадлежности",
         "шт"
        ],
        [
         "1",
         "НИ-IS0040225",
         "Cветильник потолочный,Osairous,Белый, 30Вт LED, 6500K Светодиодная потолочная",
         "Cветильник потолочный,Osairous,Белый, 30Вт LED, 6500K Светодиодная потолочная",
         "АВАНСОВЫЙ ОТЧЕТ",
         "Сырье и материалы",
         "шт"
        ],
        [
         "2",
         "НИ-IS0014483",
         "Cистема IP-DECT Yealink W80DM контроллер микросота DECT",
         "Cистема IP-DECT Yealink W80DM контроллер микросота DECT",
         "АВАНСОВЫЙ ОТЧЕТ",
         "Инвентарь и хозяйственные принадлежности",
         "шт"
        ],
        [
         "3",
         "НИ-IS0047648",
         "Cпрей для ванной комнаты Sanfor (Санфор) 500мл",
         "Cпрей для ванной комнаты Sanfor (Санфор) 500мл",
         "АВАНСОВЫЙ ОТЧЕТ",
         "Сырье и материалы",
         "шт"
        ],
        [
         "4",
         "НИ-IS0047649",
         "Cпрей ультрабелый Sanfor (Санфор) 500мл",
         "Cпрей ультрабелый Sanfor (Санфор) 500мл",
         "АВАНСОВЫЙ ОТЧЕТ",
         "Сырье и материалы",
         "шт"
        ]
       ],
       "shape": {
        "columns": 6,
        "rows": 5
       }
      },
      "text/html": [
       "<div>\n",
       "<style scoped>\n",
       "    .dataframe tbody tr th:only-of-type {\n",
       "        vertical-align: middle;\n",
       "    }\n",
       "\n",
       "    .dataframe tbody tr th {\n",
       "        vertical-align: top;\n",
       "    }\n",
       "\n",
       "    .dataframe thead th {\n",
       "        text-align: right;\n",
       "    }\n",
       "</style>\n",
       "<table border=\"1\" class=\"dataframe\">\n",
       "  <thead>\n",
       "    <tr style=\"text-align: right;\">\n",
       "      <th></th>\n",
       "      <th>Код</th>\n",
       "      <th>Наименование</th>\n",
       "      <th>НаименованиеПолное</th>\n",
       "      <th>Группа</th>\n",
       "      <th>ВидНоменклатуры</th>\n",
       "      <th>ЕдиницаИзмерения</th>\n",
       "    </tr>\n",
       "  </thead>\n",
       "  <tbody>\n",
       "    <tr>\n",
       "      <th>0</th>\n",
       "      <td>НИ-IS0032430</td>\n",
       "      <td>Cветильник LED панель 50W 6500k IP40 1200мм ДП...</td>\n",
       "      <td>Cветильник LED панель 50W 6500k IP40 1200мм ДП...</td>\n",
       "      <td>АВАНСОВЫЙ ОТЧЕТ</td>\n",
       "      <td>Инвентарь и хозяйственные принадлежности</td>\n",
       "      <td>шт</td>\n",
       "    </tr>\n",
       "    <tr>\n",
       "      <th>1</th>\n",
       "      <td>НИ-IS0040225</td>\n",
       "      <td>Cветильник потолочный,Osairous,Белый, 30Вт LED...</td>\n",
       "      <td>Cветильник потолочный,Osairous,Белый, 30Вт LED...</td>\n",
       "      <td>АВАНСОВЫЙ ОТЧЕТ</td>\n",
       "      <td>Сырье и материалы</td>\n",
       "      <td>шт</td>\n",
       "    </tr>\n",
       "    <tr>\n",
       "      <th>2</th>\n",
       "      <td>НИ-IS0014483</td>\n",
       "      <td>Cистема IP-DECT Yealink W80DM контроллер микро...</td>\n",
       "      <td>Cистема IP-DECT Yealink W80DM контроллер микро...</td>\n",
       "      <td>АВАНСОВЫЙ ОТЧЕТ</td>\n",
       "      <td>Инвентарь и хозяйственные принадлежности</td>\n",
       "      <td>шт</td>\n",
       "    </tr>\n",
       "    <tr>\n",
       "      <th>3</th>\n",
       "      <td>НИ-IS0047648</td>\n",
       "      <td>Cпрей для ванной комнаты Sanfor (Санфор) 500мл</td>\n",
       "      <td>Cпрей для ванной комнаты Sanfor (Санфор) 500мл</td>\n",
       "      <td>АВАНСОВЫЙ ОТЧЕТ</td>\n",
       "      <td>Сырье и материалы</td>\n",
       "      <td>шт</td>\n",
       "    </tr>\n",
       "    <tr>\n",
       "      <th>4</th>\n",
       "      <td>НИ-IS0047649</td>\n",
       "      <td>Cпрей ультрабелый Sanfor (Санфор) 500мл</td>\n",
       "      <td>Cпрей ультрабелый Sanfor (Санфор) 500мл</td>\n",
       "      <td>АВАНСОВЫЙ ОТЧЕТ</td>\n",
       "      <td>Сырье и материалы</td>\n",
       "      <td>шт</td>\n",
       "    </tr>\n",
       "  </tbody>\n",
       "</table>\n",
       "</div>"
      ],
      "text/plain": [
       "            Код                                       Наименование  \\\n",
       "0  НИ-IS0032430  Cветильник LED панель 50W 6500k IP40 1200мм ДП...   \n",
       "1  НИ-IS0040225  Cветильник потолочный,Osairous,Белый, 30Вт LED...   \n",
       "2  НИ-IS0014483  Cистема IP-DECT Yealink W80DM контроллер микро...   \n",
       "3  НИ-IS0047648     Cпрей для ванной комнаты Sanfor (Санфор) 500мл   \n",
       "4  НИ-IS0047649            Cпрей ультрабелый Sanfor (Санфор) 500мл   \n",
       "\n",
       "                                  НаименованиеПолное           Группа  \\\n",
       "0  Cветильник LED панель 50W 6500k IP40 1200мм ДП...  АВАНСОВЫЙ ОТЧЕТ   \n",
       "1  Cветильник потолочный,Osairous,Белый, 30Вт LED...  АВАНСОВЫЙ ОТЧЕТ   \n",
       "2  Cистема IP-DECT Yealink W80DM контроллер микро...  АВАНСОВЫЙ ОТЧЕТ   \n",
       "3     Cпрей для ванной комнаты Sanfor (Санфор) 500мл  АВАНСОВЫЙ ОТЧЕТ   \n",
       "4            Cпрей ультрабелый Sanfor (Санфор) 500мл  АВАНСОВЫЙ ОТЧЕТ   \n",
       "\n",
       "                            ВидНоменклатуры ЕдиницаИзмерения  \n",
       "0  Инвентарь и хозяйственные принадлежности               шт  \n",
       "1                         Сырье и материалы               шт  \n",
       "2  Инвентарь и хозяйственные принадлежности               шт  \n",
       "3                         Сырье и материалы               шт  \n",
       "4                         Сырье и материалы               шт  "
      ]
     },
     "execution_count": 4,
     "metadata": {},
     "output_type": "execute_result"
    }
   ],
   "source": [
    "original_data.head()"
   ]
  },
  {
   "cell_type": "code",
   "execution_count": 5,
   "id": "9ea25e65",
   "metadata": {},
   "outputs": [
    {
     "name": "stdout",
     "output_type": "stream",
     "text": [
      "7185\n"
     ]
    }
   ],
   "source": [
    "dop_data = pd.read_excel(data_helper[\"input\"] / \"dop_data.xlsx\")\n",
    "print(len(dop_data))"
   ]
  },
  {
   "cell_type": "code",
   "execution_count": 6,
   "id": "d216f736",
   "metadata": {},
   "outputs": [
    {
     "data": {
      "application/vnd.microsoft.datawrangler.viewer.v0+json": {
       "columns": [
        {
         "name": "index",
         "rawType": "int64",
         "type": "integer"
        },
        {
         "name": "Склад",
         "rawType": "object",
         "type": "string"
        },
        {
         "name": "Материал",
         "rawType": "float64",
         "type": "float"
        },
        {
         "name": "Наименование материала",
         "rawType": "object",
         "type": "string"
        },
        {
         "name": "БЕИ",
         "rawType": "object",
         "type": "string"
        },
        {
         "name": "место хранения",
         "rawType": "object",
         "type": "string"
        },
        {
         "name": "весовые характеристики",
         "rawType": "object",
         "type": "unknown"
        }
       ],
       "ref": "600e5367-68e5-482f-bb74-64bd4d97b606",
       "rows": [
        [
         "0",
         "R010",
         "20140460.0",
         "Бейсболка лет М027-03 р.61",
         "ШТ",
         "ТС",
         "0.0001"
        ],
        [
         "1",
         "R010",
         "20438940.0",
         "Бейсболка_РН_ХБ_То_54",
         "ШТ",
         "ТС",
         "0.0001"
        ],
        [
         "2",
         "R010",
         "20589892.0",
         "Бейсболка_РН_ХБТо_55-57",
         "ШТ",
         "ТС",
         "0.0001"
        ],
        [
         "3",
         "R010",
         "20589902.0",
         "Бейсболка_РН_ХБТо_58-61",
         "ШТ",
         "ТС",
         "0.0001"
        ],
        [
         "4",
         "R010",
         "20569863.0",
         "Белье 2/08/797 2/01/797, 128-132/182-188",
         "К-Т",
         "ТС",
         "0.0006"
        ]
       ],
       "shape": {
        "columns": 6,
        "rows": 5
       }
      },
      "text/html": [
       "<div>\n",
       "<style scoped>\n",
       "    .dataframe tbody tr th:only-of-type {\n",
       "        vertical-align: middle;\n",
       "    }\n",
       "\n",
       "    .dataframe tbody tr th {\n",
       "        vertical-align: top;\n",
       "    }\n",
       "\n",
       "    .dataframe thead th {\n",
       "        text-align: right;\n",
       "    }\n",
       "</style>\n",
       "<table border=\"1\" class=\"dataframe\">\n",
       "  <thead>\n",
       "    <tr style=\"text-align: right;\">\n",
       "      <th></th>\n",
       "      <th>Склад</th>\n",
       "      <th>Материал</th>\n",
       "      <th>Наименование материала</th>\n",
       "      <th>БЕИ</th>\n",
       "      <th>место хранения</th>\n",
       "      <th>весовые характеристики</th>\n",
       "    </tr>\n",
       "  </thead>\n",
       "  <tbody>\n",
       "    <tr>\n",
       "      <th>0</th>\n",
       "      <td>R010</td>\n",
       "      <td>20140460.0</td>\n",
       "      <td>Бейсболка лет М027-03 р.61</td>\n",
       "      <td>ШТ</td>\n",
       "      <td>ТС</td>\n",
       "      <td>0.0001</td>\n",
       "    </tr>\n",
       "    <tr>\n",
       "      <th>1</th>\n",
       "      <td>R010</td>\n",
       "      <td>20438940.0</td>\n",
       "      <td>Бейсболка_РН_ХБ_То_54</td>\n",
       "      <td>ШТ</td>\n",
       "      <td>ТС</td>\n",
       "      <td>0.0001</td>\n",
       "    </tr>\n",
       "    <tr>\n",
       "      <th>2</th>\n",
       "      <td>R010</td>\n",
       "      <td>20589892.0</td>\n",
       "      <td>Бейсболка_РН_ХБТо_55-57</td>\n",
       "      <td>ШТ</td>\n",
       "      <td>ТС</td>\n",
       "      <td>0.0001</td>\n",
       "    </tr>\n",
       "    <tr>\n",
       "      <th>3</th>\n",
       "      <td>R010</td>\n",
       "      <td>20589902.0</td>\n",
       "      <td>Бейсболка_РН_ХБТо_58-61</td>\n",
       "      <td>ШТ</td>\n",
       "      <td>ТС</td>\n",
       "      <td>0.0001</td>\n",
       "    </tr>\n",
       "    <tr>\n",
       "      <th>4</th>\n",
       "      <td>R010</td>\n",
       "      <td>20569863.0</td>\n",
       "      <td>Белье 2/08/797 2/01/797, 128-132/182-188</td>\n",
       "      <td>К-Т</td>\n",
       "      <td>ТС</td>\n",
       "      <td>0.0006</td>\n",
       "    </tr>\n",
       "  </tbody>\n",
       "</table>\n",
       "</div>"
      ],
      "text/plain": [
       "  Склад    Материал                    Наименование материала  БЕИ  \\\n",
       "0  R010  20140460.0                Бейсболка лет М027-03 р.61   ШТ   \n",
       "1  R010  20438940.0                     Бейсболка_РН_ХБ_То_54   ШТ   \n",
       "2  R010  20589892.0                   Бейсболка_РН_ХБТо_55-57   ШТ   \n",
       "3  R010  20589902.0                   Бейсболка_РН_ХБТо_58-61   ШТ   \n",
       "4  R010  20569863.0  Белье 2/08/797 2/01/797, 128-132/182-188  К-Т   \n",
       "\n",
       "  место хранения весовые характеристики  \n",
       "0             ТС                 0.0001  \n",
       "1             ТС                 0.0001  \n",
       "2             ТС                 0.0001  \n",
       "3             ТС                 0.0001  \n",
       "4             ТС                 0.0006  "
      ]
     },
     "execution_count": 6,
     "metadata": {},
     "output_type": "execute_result"
    }
   ],
   "source": [
    "dop_data.head()"
   ]
  },
  {
   "cell_type": "code",
   "execution_count": 7,
   "id": "592d0729",
   "metadata": {},
   "outputs": [],
   "source": [
    "names = {}\n",
    "names_beffur = {}\n",
    "for i, row in original_data.iterrows():\n",
    "    flag = False\n",
    "    names.setdefault(row[\"ВидНоменклатуры\"], set())\n",
    "    for k, n in names.items():\n",
    "        if k == row[\"ВидНоменклатуры\"]:\n",
    "            continue\n",
    "        \n",
    "        if row[\"Наименование\"] in n:\n",
    "            flag = k\n",
    "            break\n",
    "\n",
    "    if flag:\n",
    "        # print(row[\"ВидНоменклатуры\"], row[\"Наименование\"], flag)\n",
    "        names_beffur.setdefault(flag, set())\n",
    "        names_beffur[flag].add(row[\"Наименование\"])\n",
    "        continue\n",
    "    \n",
    "    names[row[\"ВидНоменклатуры\"]].add(row[\"Наименование\"])"
   ]
  },
  {
   "cell_type": "code",
   "execution_count": 8,
   "id": "8b2e0472",
   "metadata": {},
   "outputs": [
    {
     "name": "stdout",
     "output_type": "stream",
     "text": [
      "Запасные части-49119\n",
      "Сырье и материалы-23297\n",
      "Инвентарь и хозяйственные принадлежности-20179\n",
      "Спецодежда-10664\n",
      "Спецоснастка-2631\n",
      "Строительные материалы-2525\n",
      "Аварийный инструмент и инвентарь-2144\n",
      "Запасные части к БО-2112\n",
      "Основное средство-2042\n",
      "Услуга-2039\n",
      "Оснастка-1575\n",
      "Инструмент-1217\n",
      "Оргтехника и программное обеспечение-1195\n",
      "Оборудование малоценное-1132\n",
      "Химический реагент-1097\n",
      "Масла и смазки-1078\n",
      "Товары-1008\n",
      "Запасные части к ТС-989\n",
      "Прочие материалы-788\n",
      "Труба обсадная-455\n",
      "Нематериальный актив-446\n",
      "Труба бурильная-263\n",
      "Панели ситовые-258\n",
      "Тара и тарные материалы-157\n",
      "Техника безопасности и охрана труда-138\n",
      "Запасные части к ПВО-129\n",
      "Цемент-129\n",
      "Топливо-48\n",
      "Лом металлический-22\n",
      "Труба общего назначения-20\n",
      "Оборудование (объекты основных средств) сч. 08.4-12\n",
      "Оборудование к установке-7\n",
      "Отходы бурения-7\n",
      "Транспортные средства-5\n",
      "Раствор буровой-4\n",
      "Материалы-3\n",
      "Корзины ситовые-1\n",
      "Специальная оснастка и специальная одежда на склад-1\n",
      "Запчасти-1\n"
     ]
    }
   ],
   "source": [
    "for type, t_names in sorted(names.items(), key=lambda x: len(x[1]), reverse=True):\n",
    "    print(f\"{type}-{len(t_names)}\")"
   ]
  },
  {
   "cell_type": "code",
   "execution_count": 9,
   "id": "7caf5ead",
   "metadata": {},
   "outputs": [],
   "source": [
    "CLASSES = {\n",
    "    \"Материалы\": 1,\n",
    "    \"Оборудование и техника\": 2,\n",
    "    \"Запасные части\": 3,\n",
    "    \"Инструменты и оснастка\": 4,\n",
    "    \"Прочие материальные ценности\": 5,\n",
    "    \"IT и ПО\": 6,\n",
    "    \"Одежда и СИЗ\": 7,\n",
    "    \"Нематериальные активы\": 8,\n",
    "    \"Услуги и отходы\": 9,\n",
    "    \"Прочее\": 10\n",
    "}\n",
    "\n",
    "NIP_CLASS = {\n",
    "    1: [\"Сырье и материалы\", \"Строительные материалы\", \"Цемент\", \"Масла и смазки\", \"Химический реагент\", \"Материалы\", \"Топливо\", \"Раствор буровой\"],\n",
    "    2: [\"Оборудование малоценное\", \"Оборудование к установке\", \"Оборудование (объекты основных средств) сч. 08.4\", \"Основное средство\", \"Транспортные средства\", \n",
    "        \"Труба обсадная\", \"Труба общего назначения\", \"Труба бурильная\"],\n",
    "    3: [\"Запасные части\", \"Запчасти\", \"Запасные части к ТС\", \"Запасные части к БО\", \"Запасные части к ПВО\"],\n",
    "    4: [\"Инструмент\", \"Оснастка\", \"Спецоснастка\", \"Специальная оснастка и одежда\"],\n",
    "    5: [\"Инвентарь и хозяйственные принадлежности\", \"Аварийный инструмент и инвентарь\", \"Техника безопасности и охрана труда\", \"Тара и тарные материалы\", \"Лом металлический\"],\n",
    "    6: [\"Оргтехника и программное обеспечение\"],\n",
    "    7: [\"Спецодежда\", \"Техника безопасности\", \"Специальная оснастка и специальная одежда на склад\"],\n",
    "    8: [\"Нематериальный актив\"],\n",
    "    9: [\"Услуга\", \"Отходы бурения\"],\n",
    "    10: [\"Товары\", \"Панели ситовые\", \"Корзины ситовые\", \"Прочие материалы\", \"Трубы (обсадные, бурильные, общие)\", \"Цемент\"]\n",
    "}"
   ]
  },
  {
   "cell_type": "code",
   "execution_count": 10,
   "id": "5e89644d",
   "metadata": {},
   "outputs": [],
   "source": [
    "data = []\n",
    "for category, items in names.items():\n",
    "    for class_id, val in NIP_CLASS.items():\n",
    "        if category in val:\n",
    "            for name in items:\n",
    "                data.append((name, class_id))\n",
    "            break\n",
    "    else:\n",
    "        print(category)"
   ]
  },
  {
   "cell_type": "code",
   "execution_count": 11,
   "id": "41fd3044",
   "metadata": {},
   "outputs": [
    {
     "data": {
      "text/plain": [
       "128937"
      ]
     },
     "execution_count": 11,
     "metadata": {},
     "output_type": "execute_result"
    }
   ],
   "source": [
    "len(data)"
   ]
  },
  {
   "cell_type": "code",
   "execution_count": 12,
   "id": "4273f22c",
   "metadata": {},
   "outputs": [],
   "source": [
    "from sklearn.model_selection import train_test_split\n",
    "\n",
    "texts, labels = zip(*data)\n",
    "X_train, X_test, y_train, y_test = train_test_split(texts, labels, test_size=0.2, random_state=42)"
   ]
  },
  {
   "cell_type": "code",
   "execution_count": 13,
   "id": "687817c1",
   "metadata": {},
   "outputs": [
    {
     "name": "stdout",
     "output_type": "stream",
     "text": [
      "Accuracy: 0.8674965100046533\n"
     ]
    }
   ],
   "source": [
    "from sklearn.feature_extraction.text import TfidfVectorizer\n",
    "from sklearn.linear_model import LogisticRegression\n",
    "from sklearn.pipeline import Pipeline\n",
    "\n",
    "model = Pipeline([\n",
    "    (\"tfidf\", TfidfVectorizer(ngram_range=(1,2))),\n",
    "    (\"clf\", LogisticRegression(max_iter=1000))\n",
    "])\n",
    "\n",
    "model.fit(X_train, y_train)\n",
    "print(\"Accuracy:\", model.score(X_test, y_test))"
   ]
  },
  {
   "cell_type": "code",
   "execution_count": 14,
   "id": "5218f335",
   "metadata": {},
   "outputs": [],
   "source": [
    "result = model.predict([\"Шуруповерт Bosch 12V\"])"
   ]
  },
  {
   "cell_type": "code",
   "execution_count": 15,
   "id": "71e7957a",
   "metadata": {},
   "outputs": [
    {
     "data": {
      "text/plain": [
       "array([5])"
      ]
     },
     "execution_count": 15,
     "metadata": {},
     "output_type": "execute_result"
    }
   ],
   "source": [
    "result"
   ]
  },
  {
   "cell_type": "code",
   "execution_count": null,
   "id": "87c94d89",
   "metadata": {},
   "outputs": [],
   "source": [
    "tokens = tokenizer(\"Шуруповерт Bosch 12V\", return_tensors=\"pt\")\n",
    "output = model(**tokens)\n",
    "predicted_class_id = torch.argmax(output.logits, dim=1).item()\n",
    "label = le.inverse_transform([predicted_class_id])[0]"
   ]
  },
  {
   "cell_type": "code",
   "execution_count": null,
   "id": "699324c6",
   "metadata": {},
   "outputs": [
    {
     "name": "stdout",
     "output_type": "stream",
     "text": [
      "4.55.2\n"
     ]
    }
   ],
   "source": [
    "import transformers\n",
    "print(transformers.__version__)"
   ]
  }
 ],
 "metadata": {
  "kernelspec": {
   "display_name": ".venv",
   "language": "python",
   "name": "python3"
  },
  "language_info": {
   "codemirror_mode": {
    "name": "ipython",
    "version": 3
   },
   "file_extension": ".py",
   "mimetype": "text/x-python",
   "name": "python",
   "nbconvert_exporter": "python",
   "pygments_lexer": "ipython3",
   "version": "3.12.8"
  }
 },
 "nbformat": 4,
 "nbformat_minor": 5
}
