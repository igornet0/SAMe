{
 "cells": [
  {
   "cell_type": "code",
   "execution_count": 2,
   "id": "7542b00c",
   "metadata": {},
   "outputs": [
    {
     "name": "stderr",
     "output_type": "stream",
     "text": [
      "/Users/igor/Desktop/PythonProjects/SAMe2.0/.venv/lib/python3.12/site-packages/tqdm/auto.py:21: TqdmWarning: IProgress not found. Please update jupyter and ipywidgets. See https://ipywidgets.readthedocs.io/en/stable/user_install.html\n",
      "  from .autonotebook import tqdm as notebook_tqdm\n",
      "2025-08-15 16:02:48,547 - INFO - Registered module: same_core\n",
      "2025-08-15 16:02:48,549 - INFO - Registered module: same_clear\n",
      "2025-08-15 16:02:48,551 - INFO - Registered module: same_search\n",
      "2025-08-15 16:02:48,551 - INFO - Registered module: same_api\n",
      "2025-08-15 16:02:48,552 - INFO - Backward compatibility setup completed\n"
     ]
    }
   ],
   "source": [
    "import pandas as pd\n",
    "from src.data_manager import data_helper"
   ]
  },
  {
   "cell_type": "code",
   "execution_count": 4,
   "id": "1b5c1b00",
   "metadata": {},
   "outputs": [
    {
     "data": {
      "text/plain": [
       "1340012"
      ]
     },
     "execution_count": 4,
     "metadata": {},
     "output_type": "execute_result"
    }
   ],
   "source": [
    "result_data = pd.read_csv(data_helper[\"output\"] / \"full_dataset_results_20250801_114232.csv\")\n",
    "len(result_data)"
   ]
  },
  {
   "cell_type": "code",
   "execution_count": null,
   "id": "e33768c4",
   "metadata": {},
   "outputs": [],
   "source": [
    "original_data = pd.read_excel(data_helper[\"input\"] / \"main_dataset.xlsx\")\n",
    "print(len(original_data))"
   ]
  },
  {
   "cell_type": "code",
   "execution_count": 3,
   "id": "3a110173",
   "metadata": {},
   "outputs": [
    {
     "data": {
      "application/vnd.microsoft.datawrangler.viewer.v0+json": {
       "columns": [
        {
         "name": "index",
         "rawType": "int64",
         "type": "integer"
        },
        {
         "name": "Код",
         "rawType": "int64",
         "type": "integer"
        },
        {
         "name": "Raw_Name",
         "rawType": "object",
         "type": "string"
        },
        {
         "name": "Candidate_Name",
         "rawType": "object",
         "type": "string"
        },
        {
         "name": "Similarity_Score",
         "rawType": "float64",
         "type": "float"
        },
        {
         "name": "Relation_Type",
         "rawType": "object",
         "type": "string"
        },
        {
         "name": "Suggested_Category",
         "rawType": "object",
         "type": "string"
        },
        {
         "name": "Final_Decision",
         "rawType": "float64",
         "type": "float"
        },
        {
         "name": "Comment",
         "rawType": "object",
         "type": "string"
        },
        {
         "name": "Original_Category",
         "rawType": "float64",
         "type": "float"
        },
        {
         "name": "Candidate_Код",
         "rawType": "int64",
         "type": "integer"
        },
        {
         "name": "Original_Code",
         "rawType": "int64",
         "type": "integer"
        },
        {
         "name": "Search_Engine",
         "rawType": "object",
         "type": "string"
        }
       ],
       "ref": "4521b69c-e3a0-48db-8d62-6606073631db",
       "rows": [
        [
         "0",
         "5",
         "Белье жен серия 797 р.104-108/158-164",
         "Белье жен серия 797 р.112-116/182-188",
         "1.0",
         "дубль",
         "Неопределено",
         null,
         "Chunk 1; Parallel; Жаккар: 1.000",
         null,
         "6",
         "5",
         "ParallelDBSCAN"
        ],
        [
         "1",
         "5",
         "Белье жен серия 797 р.104-108/158-164",
         "Белье жен серия 797 р.120-124/158-164",
         "1.0",
         "дубль",
         "Неопределено",
         null,
         "Chunk 1; Parallel; Жаккар: 1.000",
         null,
         "7",
         "5",
         "ParallelDBSCAN"
        ],
        [
         "2",
         "5",
         "Белье жен серия 797 р.104-108/158-164",
         "Белье жен серия 797 р.88-92/158-164",
         "1.0",
         "дубль",
         "Неопределено",
         null,
         "Chunk 1; Parallel; Жаккар: 1.000",
         null,
         "8",
         "5",
         "ParallelDBSCAN"
        ],
        [
         "3",
         "5",
         "Белье жен серия 797 р.104-108/158-164",
         "Белье жен серия 797 р.96-100/158-164",
         "1.0",
         "дубль",
         "Неопределено",
         null,
         "Chunk 1; Parallel; Жаккар: 1.000",
         null,
         "9",
         "5",
         "ParallelDBSCAN"
        ],
        [
         "4",
         "5",
         "Белье жен серия 797 р.104-108/158-164",
         "Белье жен серия 797 р.96-100/182-188",
         "1.0",
         "дубль",
         "Неопределено",
         null,
         "Chunk 1; Parallel; Жаккар: 1.000",
         null,
         "10",
         "5",
         "ParallelDBSCAN"
        ]
       ],
       "shape": {
        "columns": 12,
        "rows": 5
       }
      },
      "text/html": [
       "<div>\n",
       "<style scoped>\n",
       "    .dataframe tbody tr th:only-of-type {\n",
       "        vertical-align: middle;\n",
       "    }\n",
       "\n",
       "    .dataframe tbody tr th {\n",
       "        vertical-align: top;\n",
       "    }\n",
       "\n",
       "    .dataframe thead th {\n",
       "        text-align: right;\n",
       "    }\n",
       "</style>\n",
       "<table border=\"1\" class=\"dataframe\">\n",
       "  <thead>\n",
       "    <tr style=\"text-align: right;\">\n",
       "      <th></th>\n",
       "      <th>Код</th>\n",
       "      <th>Raw_Name</th>\n",
       "      <th>Candidate_Name</th>\n",
       "      <th>Similarity_Score</th>\n",
       "      <th>Relation_Type</th>\n",
       "      <th>Suggested_Category</th>\n",
       "      <th>Final_Decision</th>\n",
       "      <th>Comment</th>\n",
       "      <th>Original_Category</th>\n",
       "      <th>Candidate_Код</th>\n",
       "      <th>Original_Code</th>\n",
       "      <th>Search_Engine</th>\n",
       "    </tr>\n",
       "  </thead>\n",
       "  <tbody>\n",
       "    <tr>\n",
       "      <th>0</th>\n",
       "      <td>5</td>\n",
       "      <td>Белье жен серия 797 р.104-108/158-164</td>\n",
       "      <td>Белье жен серия 797 р.112-116/182-188</td>\n",
       "      <td>1.0</td>\n",
       "      <td>дубль</td>\n",
       "      <td>Неопределено</td>\n",
       "      <td>NaN</td>\n",
       "      <td>Chunk 1; Parallel; Жаккар: 1.000</td>\n",
       "      <td>NaN</td>\n",
       "      <td>6</td>\n",
       "      <td>5</td>\n",
       "      <td>ParallelDBSCAN</td>\n",
       "    </tr>\n",
       "    <tr>\n",
       "      <th>1</th>\n",
       "      <td>5</td>\n",
       "      <td>Белье жен серия 797 р.104-108/158-164</td>\n",
       "      <td>Белье жен серия 797 р.120-124/158-164</td>\n",
       "      <td>1.0</td>\n",
       "      <td>дубль</td>\n",
       "      <td>Неопределено</td>\n",
       "      <td>NaN</td>\n",
       "      <td>Chunk 1; Parallel; Жаккар: 1.000</td>\n",
       "      <td>NaN</td>\n",
       "      <td>7</td>\n",
       "      <td>5</td>\n",
       "      <td>ParallelDBSCAN</td>\n",
       "    </tr>\n",
       "    <tr>\n",
       "      <th>2</th>\n",
       "      <td>5</td>\n",
       "      <td>Белье жен серия 797 р.104-108/158-164</td>\n",
       "      <td>Белье жен серия 797 р.88-92/158-164</td>\n",
       "      <td>1.0</td>\n",
       "      <td>дубль</td>\n",
       "      <td>Неопределено</td>\n",
       "      <td>NaN</td>\n",
       "      <td>Chunk 1; Parallel; Жаккар: 1.000</td>\n",
       "      <td>NaN</td>\n",
       "      <td>8</td>\n",
       "      <td>5</td>\n",
       "      <td>ParallelDBSCAN</td>\n",
       "    </tr>\n",
       "    <tr>\n",
       "      <th>3</th>\n",
       "      <td>5</td>\n",
       "      <td>Белье жен серия 797 р.104-108/158-164</td>\n",
       "      <td>Белье жен серия 797 р.96-100/158-164</td>\n",
       "      <td>1.0</td>\n",
       "      <td>дубль</td>\n",
       "      <td>Неопределено</td>\n",
       "      <td>NaN</td>\n",
       "      <td>Chunk 1; Parallel; Жаккар: 1.000</td>\n",
       "      <td>NaN</td>\n",
       "      <td>9</td>\n",
       "      <td>5</td>\n",
       "      <td>ParallelDBSCAN</td>\n",
       "    </tr>\n",
       "    <tr>\n",
       "      <th>4</th>\n",
       "      <td>5</td>\n",
       "      <td>Белье жен серия 797 р.104-108/158-164</td>\n",
       "      <td>Белье жен серия 797 р.96-100/182-188</td>\n",
       "      <td>1.0</td>\n",
       "      <td>дубль</td>\n",
       "      <td>Неопределено</td>\n",
       "      <td>NaN</td>\n",
       "      <td>Chunk 1; Parallel; Жаккар: 1.000</td>\n",
       "      <td>NaN</td>\n",
       "      <td>10</td>\n",
       "      <td>5</td>\n",
       "      <td>ParallelDBSCAN</td>\n",
       "    </tr>\n",
       "  </tbody>\n",
       "</table>\n",
       "</div>"
      ],
      "text/plain": [
       "   Код                               Raw_Name  \\\n",
       "0    5  Белье жен серия 797 р.104-108/158-164   \n",
       "1    5  Белье жен серия 797 р.104-108/158-164   \n",
       "2    5  Белье жен серия 797 р.104-108/158-164   \n",
       "3    5  Белье жен серия 797 р.104-108/158-164   \n",
       "4    5  Белье жен серия 797 р.104-108/158-164   \n",
       "\n",
       "                          Candidate_Name  Similarity_Score Relation_Type  \\\n",
       "0  Белье жен серия 797 р.112-116/182-188               1.0         дубль   \n",
       "1  Белье жен серия 797 р.120-124/158-164               1.0         дубль   \n",
       "2    Белье жен серия 797 р.88-92/158-164               1.0         дубль   \n",
       "3   Белье жен серия 797 р.96-100/158-164               1.0         дубль   \n",
       "4   Белье жен серия 797 р.96-100/182-188               1.0         дубль   \n",
       "\n",
       "  Suggested_Category  Final_Decision                           Comment  \\\n",
       "0       Неопределено             NaN  Chunk 1; Parallel; Жаккар: 1.000   \n",
       "1       Неопределено             NaN  Chunk 1; Parallel; Жаккар: 1.000   \n",
       "2       Неопределено             NaN  Chunk 1; Parallel; Жаккар: 1.000   \n",
       "3       Неопределено             NaN  Chunk 1; Parallel; Жаккар: 1.000   \n",
       "4       Неопределено             NaN  Chunk 1; Parallel; Жаккар: 1.000   \n",
       "\n",
       "   Original_Category  Candidate_Код  Original_Code   Search_Engine  \n",
       "0                NaN              6              5  ParallelDBSCAN  \n",
       "1                NaN              7              5  ParallelDBSCAN  \n",
       "2                NaN              8              5  ParallelDBSCAN  \n",
       "3                NaN              9              5  ParallelDBSCAN  \n",
       "4                NaN             10              5  ParallelDBSCAN  "
      ]
     },
     "execution_count": 3,
     "metadata": {},
     "output_type": "execute_result"
    }
   ],
   "source": [
    "proccessed_data = pd.read_csv(\"parallel_dbscan_results_new_main_dataset_processed_20250815_155956.csv\")\n",
    "proccessed_data.head()"
   ]
  },
  {
   "cell_type": "code",
   "execution_count": 4,
   "id": "86eb2238",
   "metadata": {},
   "outputs": [],
   "source": [
    "result_data = proccessed_data"
   ]
  },
  {
   "cell_type": "code",
   "execution_count": null,
   "id": "c9571405",
   "metadata": {},
   "outputs": [],
   "source": [
    "# result_data_2 = pd.read_excel(data_helper[\"output\"] / \"full_dataset_results_final.xlsx\")\n",
    "# print(len(result_data_2))"
   ]
  },
  {
   "cell_type": "code",
   "execution_count": null,
   "id": "9c10febf",
   "metadata": {},
   "outputs": [],
   "source": [
    "result_data.head()"
   ]
  },
  {
   "cell_type": "code",
   "execution_count": 5,
   "id": "1a891a42",
   "metadata": {},
   "outputs": [
    {
     "data": {
      "application/vnd.microsoft.datawrangler.viewer.v0+json": {
       "columns": [
        {
         "name": "Relation_Type",
         "rawType": "object",
         "type": "string"
        },
        {
         "name": "0",
         "rawType": "int64",
         "type": "integer"
        }
       ],
       "ref": "236e94e9-fc16-404c-863a-d0ce490a12bb",
       "rows": [
        [
         "аналог",
         "114324"
        ],
        [
         "близкий аналог",
         "227833"
        ],
        [
         "возможный аналог",
         "457903"
        ],
        [
         "дубль",
         "682709"
        ]
       ],
       "shape": {
        "columns": 1,
        "rows": 4
       }
      },
      "text/plain": [
       "Relation_Type\n",
       "аналог              114324\n",
       "близкий аналог      227833\n",
       "возможный аналог    457903\n",
       "дубль               682709\n",
       "dtype: int64"
      ]
     },
     "execution_count": 5,
     "metadata": {},
     "output_type": "execute_result"
    }
   ],
   "source": [
    "result_data.groupby(\"Relation_Type\").size()"
   ]
  },
  {
   "cell_type": "code",
   "execution_count": 6,
   "id": "0c2b4a22",
   "metadata": {},
   "outputs": [],
   "source": [
    "df_name_candidade = result_data[[\"Код\", \"Raw_Name\", \"Candidate_Name\", \"Relation_Type\",\n",
    "                                 \"Candidate_Код\", \"Original_Code\", \"Similarity_Score\"]]\n",
    "\n",
    "df_name_candidade = df_name_candidade.groupby(\n",
    "    [\"Код\", \"Original_Code\", \"Candidate_Код\"]\n",
    ").agg({\n",
    "    \"Raw_Name\": \"first\",\n",
    "    \"Candidate_Name\": \"first\",\n",
    "    \"Relation_Type\": \"first\",\n",
    "    \"Similarity_Score\": \"first\"\n",
    "}).reset_index()\n",
    "\n",
    "buffer_analog = {}\n",
    "\n",
    "for idx, row in df_name_candidade.iterrows():\n",
    "    # name = f\"{row['Код']}-{row['Raw_Name']}\"\n",
    "    buffer_analog.setdefault(row['Код'], {})\n",
    "    buffer_analog[row['Код']].setdefault(row[\"Candidate_Код\"], {\n",
    "        \"Candidate_Name\": row[\"Candidate_Name\"],\n",
    "        \"Relation_Type\": row[\"Relation_Type\"],\n",
    "        \"Similarity_Score\": row[\"Similarity_Score\"]\n",
    "    })"
   ]
  },
  {
   "cell_type": "code",
   "execution_count": 6,
   "id": "e1b265c6",
   "metadata": {},
   "outputs": [
    {
     "name": "stdout",
     "output_type": "stream",
     "text": [
      "Среднее количество аналогов: 12.89\n",
      "Максимальное количество аналогов: 58\n",
      "Минимальное количество аналогов: 1\n",
      "Количество позиций: 103969\n"
     ]
    }
   ],
   "source": [
    "avg_analog = sum(len(value) for value in buffer_analog.values()) / len(buffer_analog)\n",
    "print(f\"Среднее количество аналогов: {avg_analog:.2f}\")\n",
    "print(f\"Максимальное количество аналогов: {max(len(value) for value in buffer_analog.values())}\")\n",
    "print(f\"Минимальное количество аналогов: {min(len(value) for value in buffer_analog.values())}\")\n",
    "print(f\"Количество позиций: {len(buffer_analog)}\")"
   ]
  },
  {
   "cell_type": "code",
   "execution_count": 7,
   "id": "9e4b0f7f",
   "metadata": {},
   "outputs": [
    {
     "name": "stdout",
     "output_type": "stream",
     "text": [
      "Среднее количество аналогов: 13.64\n",
      "Максимальное количество аналогов: 60\n",
      "Минимальное количество аналогов: 1\n",
      "Количество позиций: 108704\n"
     ]
    }
   ],
   "source": [
    "avg_analog = sum(len(value) for value in buffer_analog.values()) / len(buffer_analog)\n",
    "print(f\"Среднее количество аналогов: {avg_analog:.2f}\")\n",
    "print(f\"Максимальное количество аналогов: {max(len(value) for value in buffer_analog.values())}\")\n",
    "print(f\"Минимальное количество аналогов: {min(len(value) for value in buffer_analog.values())}\")\n",
    "print(f\"Количество позиций: {len(buffer_analog)}\")"
   ]
  },
  {
   "cell_type": "code",
   "execution_count": 13,
   "id": "49e6cae9",
   "metadata": {},
   "outputs": [],
   "source": [
    "names_model = ['neox', 'osairous', 'yealink', 'sanfor', 'санфор', 'биолан', \n",
    "\t'нэфис', 'персил', 'dallas', 'премиум', 'маяк', \n",
    "\t'chint', 'andeli', 'grass', 'kraft', 'reoflex', \n",
    "\t'керхер', 'huawei', 'honor', 'ВЫСОТА', 'ugreen', \n",
    "\t'alisafox', 'маякавто', 'техноавиа', 'восток-сервис', 'attache', \n",
    "\t'камаз', 'зубр', 'hp', 'ekf', 'dexp', \n",
    "\t'matrix', 'siemens', 'комус', 'gigant', 'hyundai', \n",
    "\t'iveco', 'stayer', 'brauberg', 'makita', 'bentec', \n",
    "\t'сибртех', 'bosch', 'rexant', 'sampa', 'kyocera', \n",
    "\t'avrora', 'derrick', 'cummins', 'economy', 'samsung', \n",
    "\t'ofite', 'professional', 'caterpillar', 'intel', 'proxima', \n",
    "\t'core', 'shantui', 'king', 'office', 'петролеум', \n",
    "\t'трейл', 'skf', 'форвелд', '\"скаймастер\"', 'tony', \n",
    "\t'kentek', 'ресанта', 'dexter', 'electric', 'оттм', \n",
    "]"
   ]
  },
  {
   "cell_type": "code",
   "execution_count": 9,
   "id": "db64ecdc",
   "metadata": {},
   "outputs": [],
   "source": [
    "class Node:\n",
    "    def __init__(self, node_id, short_name, full_name, relation_type=None, similarity_score=None):\n",
    "        self.node_id = node_id\n",
    "        self.short_name = short_name\n",
    "        self.full_name = full_name\n",
    "        self.relation_type = relation_type\n",
    "        self.similarity_score = similarity_score\n",
    "        self.children = []\n",
    "        self.is_model = self.check_model()\n",
    "\n",
    "    def check_model(self):\n",
    "        text = (self.short_name or \"\").lower() + \" \" + (self.full_name or \"\").lower()\n",
    "        return any(m.lower() in text for m in names_model)\n",
    "\n",
    "    def add_child(self, child_node):\n",
    "        self.children.append(child_node)\n",
    "\n",
    "    def sort_children(self):\n",
    "        self.children.sort(key=lambda x: x.similarity_score or 0, reverse=True)\n",
    "        for ch in self.children:\n",
    "            ch.sort_children()\n",
    "\n",
    "    def __repr__(self, level=0):\n",
    "        indent = \"    \" * level\n",
    "        rel_info = f\" [{self.relation_type}]\" if self.relation_type else \"\"\n",
    "        model_info = \" [MODEL]\" if self.is_model else \"\"\n",
    "        return (\n",
    "            f\"{indent}- {self.node_id} | {self.full_name}{rel_info}{model_info} \"\n",
    "            f\"({self.similarity_score})\\n\" +\n",
    "            \"\".join(child.__repr__(level + 1) for child in self.children)\n",
    "        )\n",
    "\n",
    "\n",
    "class Tree:\n",
    "    def __init__(self, root_node):\n",
    "        self.root = root_node\n",
    "\n",
    "    def add_node(self, parent_id, child_node):\n",
    "        # рекурсивный поиск по дереву\n",
    "        def _find_and_add(current):\n",
    "            if current.node_id == parent_id:\n",
    "                current.add_child(child_node)\n",
    "                return True\n",
    "            for ch in current.children:\n",
    "                if _find_and_add(ch):\n",
    "                    return True\n",
    "            return False\n",
    "        _find_and_add(self.root)\n",
    "\n",
    "    def __repr__(self):\n",
    "        return self.root.__repr__()"
   ]
  },
  {
   "cell_type": "code",
   "execution_count": 10,
   "id": "c9f097bd",
   "metadata": {},
   "outputs": [],
   "source": [
    "def merge_orphan_trees(trees):\n",
    "    attached = []\n",
    "    for orphan in trees:\n",
    "        # Пропускаем, если уже прикрепили\n",
    "        if orphan in attached:\n",
    "            continue\n",
    "        \n",
    "        orphan_root_id = orphan.root.node_id\n",
    "        found_parent = False\n",
    "        \n",
    "        for t in trees:\n",
    "            if t is orphan:\n",
    "                continue\n",
    "\n",
    "            # Рекурсивный поиск совпадения ID\n",
    "            def find_node_by_id(node, node_id):\n",
    "                if node.node_id == node_id:\n",
    "                    return node\n",
    "                for ch in node.children:\n",
    "                    result = find_node_by_id(ch, node_id)\n",
    "                    if result:\n",
    "                        return result\n",
    "                return None\n",
    "\n",
    "            parent_node = find_node_by_id(t.root, orphan_root_id)\n",
    "            if parent_node:\n",
    "                # переносим всех детей сироты к найденному родителю\n",
    "                parent_node.children.extend(orphan.root.children)\n",
    "                attached.append(orphan)\n",
    "                found_parent = True\n",
    "                break\n",
    "        \n",
    "        if found_parent:\n",
    "            continue\n",
    "\n",
    "    # Убираем присоединённые деревья из общего списка\n",
    "    trees[:] = [t for t in trees if t not in attached]\n",
    "    return trees"
   ]
  },
  {
   "cell_type": "code",
   "execution_count": 11,
   "id": "e569405d",
   "metadata": {},
   "outputs": [],
   "source": [
    "import re\n",
    "from collections import defaultdict\n",
    "from copy import deepcopy\n",
    "\n",
    "# --------- утилиты ---------\n",
    "def is_valid_id(node_id):\n",
    "    return bool(node_id) and node_id not in {\"-\", \"—\"}\n",
    "\n",
    "def normalize_text(s):\n",
    "    if not s:\n",
    "        return \"\"\n",
    "    s = s.lower()\n",
    "    # буквы (латиница+кириллица) и цифры оставляем, остальное в пробел\n",
    "    s = re.sub(r\"[^0-9a-zA-Zа-яА-ЯёЁ]+\", \" \", s)\n",
    "    return re.sub(r\"\\s+\", \" \", s).strip()\n",
    "\n",
    "def tokenize(s):\n",
    "    s = normalize_text(s)\n",
    "    return set(w for w in s.split() if len(w) > 1)\n",
    "\n",
    "def jaccard(a_tokens, b_tokens):\n",
    "    if not a_tokens or not b_tokens:\n",
    "        return 0.0\n",
    "    inter = len(a_tokens & b_tokens)\n",
    "    union = len(a_tokens | b_tokens)\n",
    "    return inter / union if union else 0.0\n",
    "\n",
    "def count_nodes(node):\n",
    "    return 1 + sum(count_nodes(ch) for ch in node.children)\n",
    "\n",
    "# --------- индексы по текущему лесу ---------\n",
    "def build_indexes(trees):\n",
    "    id_to_node = {}\n",
    "    id_to_parent = {}\n",
    "    id_to_tree  = {}\n",
    "    short_to_nodes = defaultdict(list)\n",
    "\n",
    "    for t in trees:\n",
    "        # DFS: собираем индексы\n",
    "        stack = [(t.root, None)]\n",
    "        while stack:\n",
    "            node, parent = stack.pop()\n",
    "            # индекс по валидному ID\n",
    "            if is_valid_id(getattr(node, \"node_id\", None)):\n",
    "                nid = node.node_id\n",
    "                id_to_node[nid] = node\n",
    "                id_to_tree[nid] = t\n",
    "                if parent:\n",
    "                    id_to_parent[nid] = parent\n",
    "            # индекс по short_name\n",
    "            sn = (node.short_name or \"\").lower()\n",
    "            if sn:\n",
    "                short_to_nodes[sn].append(node)\n",
    "            # дальше\n",
    "            for ch in node.children:\n",
    "                stack.append((ch, node))\n",
    "\n",
    "    return id_to_node, id_to_parent, id_to_tree, short_to_nodes\n",
    "\n",
    "# --------- приклейка деревьев по совпадающему root.id ---------\n",
    "def attach_by_root_id(trees):\n",
    "    id_to_node, id_to_parent, id_to_tree, _ = build_indexes(trees)\n",
    "    keep = []\n",
    "    merged = 0\n",
    "\n",
    "    for t in trees:\n",
    "        root = t.root\n",
    "        root_id = getattr(root, \"node_id\", None)\n",
    "\n",
    "        # Если корневой id валиден и такой узел уже есть где-то как child — вливаемся\n",
    "        if is_valid_id(root_id) and root_id in id_to_node:\n",
    "            host_node = id_to_node[root_id]          # существующий узел в другом дереве\n",
    "            # переносим детей корня в существующий узел\n",
    "            # (без дублей по id)\n",
    "            existing_ids = {getattr(c, \"node_id\", None) for c in host_node.children if is_valid_id(getattr(c, \"node_id\", None))}\n",
    "            for ch in root.children:\n",
    "                cid = getattr(ch, \"node_id\", None)\n",
    "                if is_valid_id(cid) and cid in existing_ids:\n",
    "                    continue\n",
    "                host_node.children.append(ch)\n",
    "            merged += 1\n",
    "            # это дерево выкидываем (оно влито)\n",
    "        else:\n",
    "            keep.append(t)\n",
    "\n",
    "    return keep, merged\n",
    "\n",
    "# --------- поиск лучшего узла-хоста по текстовой похожести ---------\n",
    "def find_best_host_by_text(orphan_root, short_to_nodes, jaccard_threshold=0.5):\n",
    "    sn = (orphan_root.short_name or \"\").lower()\n",
    "    candidates = short_to_nodes.get(sn, [])\n",
    "    if not candidates:\n",
    "        return None\n",
    "\n",
    "    orphan_tokens = tokenize(orphan_root.full_name)\n",
    "    best, best_score = None, 0.0\n",
    "    for cand in candidates:\n",
    "        score = jaccard(orphan_tokens, tokenize(cand.full_name))\n",
    "        if score > best_score:\n",
    "            best, best_score = cand, score\n",
    "\n",
    "    return best if best_score >= jaccard_threshold else None\n",
    "\n",
    "# --------- приклейка «пустых»/плохих корней по текстовой похожести ---------\n",
    "def attach_orphans_by_text(trees, jaccard_threshold=0.5, attach_subtree=True):\n",
    "    # attach_subtree=True — подвешиваем весь «сиротский» корень под best host\n",
    "    # False — переносим ТОЛЬКО детей корня в host, а сам корень отбрасываем\n",
    "    _, _, _, short_to_nodes = build_indexes(trees)\n",
    "\n",
    "    keep = []\n",
    "    merged = 0\n",
    "\n",
    "    for t in trees:\n",
    "        r = t.root\n",
    "        root_id = getattr(r, \"node_id\", None)\n",
    "        # кандидаты в «сироты»: плохой id ИЛИ 0 детей\n",
    "        is_orphan = (not is_valid_id(root_id)) or (len(r.children) == 0)\n",
    "\n",
    "        if not is_orphan:\n",
    "            keep.append(t)\n",
    "            continue\n",
    "\n",
    "        host = find_best_host_by_text(r, short_to_nodes, jaccard_threshold=jaccard_threshold)\n",
    "        if host is None:\n",
    "            # не нашли куда прикрутить — оставляем как есть\n",
    "            keep.append(t)\n",
    "            continue\n",
    "\n",
    "        if attach_subtree:\n",
    "            # подвешиваем весь корень как ребёнка host\n",
    "            host.children.append(r)\n",
    "        else:\n",
    "            # переносим только детей корня под host, а сам корень выбрасываем\n",
    "            host.children.extend(r.children)\n",
    "\n",
    "        merged += 1\n",
    "        # текущее дерево удаляем\n",
    "\n",
    "    return keep, merged\n",
    "\n",
    "# --------- основной пайплайн с многопроходным склеиванием ---------\n",
    "def merge_orphan_trees_smart(trees, max_passes=3, jaccard_threshold=0.5):\n",
    "    # работаем на копии, оригинал не трогаем\n",
    "    work = deepcopy(trees)\n",
    "    total_merged = 0\n",
    "\n",
    "    for _ in range(max_passes):\n",
    "        changed = 0\n",
    "\n",
    "        # 1) сначала простой случай — у корня валидный ID и он уже где-то есть\n",
    "        work, m1 = attach_by_root_id(work)\n",
    "        changed += m1\n",
    "\n",
    "        # 2) затем текстовая стыковка сирот: плохие ID или вообще без детей\n",
    "        work, m2 = attach_orphans_by_text(work, jaccard_threshold=jaccard_threshold, attach_subtree=True)\n",
    "        changed += m2\n",
    "\n",
    "        total_merged += changed\n",
    "        if changed == 0:\n",
    "            break\n",
    "\n",
    "    # финальная пересортировка по размеру дерева (крупные вверх)\n",
    "    work.sort(key=lambda t: count_nodes(t.root), reverse=True)\n",
    "    return work, total_merged\n",
    "\n",
    "# --------- сохранение в файл ---------\n",
    "def save_forest(trees, path=\"trees.txt\"):\n",
    "    with open(path, \"w\", encoding=\"utf-8\") as f:\n",
    "        for i, t in enumerate(trees, 1):\n",
    "            f.write(f\"# Дерево {i} — узлов: {count_nodes(t.root)}\\n\")\n",
    "            f.write(str(t))\n",
    "            f.write(\"\\n\")\n"
   ]
  },
  {
   "cell_type": "code",
   "execution_count": 14,
   "id": "6f835d80",
   "metadata": {},
   "outputs": [],
   "source": [
    "nodes_map = {} \n",
    "trees = []\n",
    "\n",
    "for main_id, analogs in buffer_analog.items():\n",
    "    if main_id not in nodes_map:\n",
    "        # создаём новый root Node\n",
    "        first_analog = next(iter(analogs.values()))\n",
    "        root_short = first_analog['Candidate_Name'].split()[0]\n",
    "        root_node = Node(main_id, root_short, first_analog['Candidate_Name'])\n",
    "        nodes_map[main_id] = root_node\n",
    "        trees.append(Tree(root_node))  # новый Tree с этим root\n",
    "    else:\n",
    "        root_node = nodes_map[main_id]  # используем существующий Node\n",
    "\n",
    "    # Добавляем детей\n",
    "    for analog_id, data in analogs.items():\n",
    "        if analog_id not in nodes_map:  # создаём Node только один раз\n",
    "            short_name = data['Candidate_Name'].split()[0]\n",
    "            full_name = data['Candidate_Name']\n",
    "            relation_type = data['Relation_Type']\n",
    "            similarity_score = data['Similarity_Score']\n",
    "            child_node = Node(analog_id, short_name, full_name, relation_type, similarity_score)\n",
    "            nodes_map[analog_id] = child_node\n",
    "            root_node.add_child(child_node)"
   ]
  },
  {
   "cell_type": "code",
   "execution_count": 31,
   "id": "63e400c3",
   "metadata": {},
   "outputs": [],
   "source": [
    "from copy import deepcopy\n",
    "new_trees = merge_orphan_trees(deepcopy(trees))"
   ]
  },
  {
   "cell_type": "code",
   "execution_count": null,
   "id": "b9bb6c98",
   "metadata": {},
   "outputs": [],
   "source": [
    "def count_nodes(node):\n",
    "    return 1 + sum(count_nodes(child) for child in node.children)\n",
    "\n",
    "# Сортируем деревья по количеству узлов (от большего к меньшему)\n",
    "new_trees.sort(key=lambda t: count_nodes(t.root), reverse=True)\n",
    "\n",
    "with open(\"searh_new_trees.txt\", \"w\", encoding=\"utf-8\") as f:\n",
    "    for t in new_trees:\n",
    "        t.root.sort_children()\n",
    "        f.write(str(t))\n",
    "        f.write(\"\\n\") "
   ]
  },
  {
   "cell_type": "code",
   "execution_count": 33,
   "id": "285d0440",
   "metadata": {},
   "outputs": [
    {
     "data": {
      "text/plain": [
       "31948"
      ]
     },
     "execution_count": 33,
     "metadata": {},
     "output_type": "execute_result"
    }
   ],
   "source": [
    "len(new_trees)"
   ]
  },
  {
   "cell_type": "code",
   "execution_count": 15,
   "id": "cc48f221",
   "metadata": {},
   "outputs": [],
   "source": [
    "# for t in trees:\n",
    "#     t.root.sort_children()\n",
    "\n",
    "def count_nodes(node):\n",
    "    return 1 + sum(count_nodes(child) for child in node.children)\n",
    "\n",
    "# Сортируем деревья по количеству узлов (от большего к меньшему)\n",
    "trees.sort(key=lambda t: count_nodes(t.root), reverse=True)\n",
    "\n",
    "with open(\"searh_new_trees.txt\", \"w\", encoding=\"utf-8\") as f:\n",
    "    for t in trees:\n",
    "        t.root.sort_children()\n",
    "        f.write(str(t))\n",
    "        f.write(\"\\n\") "
   ]
  },
  {
   "cell_type": "code",
   "execution_count": 19,
   "id": "f93e4fb7",
   "metadata": {},
   "outputs": [
    {
     "data": {
      "text/plain": [
       "31948"
      ]
     },
     "execution_count": 19,
     "metadata": {},
     "output_type": "execute_result"
    }
   ],
   "source": [
    "len(trees)"
   ]
  },
  {
   "cell_type": "code",
   "execution_count": 16,
   "id": "e08817e8",
   "metadata": {},
   "outputs": [
    {
     "data": {
      "text/plain": [
       "32411"
      ]
     },
     "execution_count": 16,
     "metadata": {},
     "output_type": "execute_result"
    }
   ],
   "source": [
    "len(trees)"
   ]
  },
  {
   "cell_type": "code",
   "execution_count": 9,
   "id": "f3ec8064",
   "metadata": {},
   "outputs": [
    {
     "name": "stdout",
     "output_type": "stream",
     "text": [
      "             {'АУП000013764': {'Candidate_Name': 'Метчик ловильный ЛМ 45-85 с присоединительной резьбой З-86', 'Relation_Type': 'дубль', 'Similarity_Score': 1.0}, 'АУП000013784': {'Candidate_Name': 'Метчик ловильный ЛМ 80-125 с присоединительной резьбой З-102', 'Relation_Type': 'дубль', 'Similarity_Score': 1.0}, 'АУП000013795': {'Candidate_Name': 'Метчик ловильный ЛМ 100-145 с присоединительной резьбой З-133', 'Relation_Type': 'дубль', 'Similarity_Score': 1.0}, 'АУП000013818': {'Candidate_Name': 'Метчик ловильный универсальный МБУ 100-142 с присоединительной резьбой З-147', 'Relation_Type': 'близкий аналог', 'Similarity_Score': 0.6667}, 'НИ-IS0021792': {'Candidate_Name': 'Метчик ловильный гладкий ЛМГ 40-54 с присоединительной резьбой З-66 ЛМГ 00.00.000ТУ', 'Relation_Type': 'близкий аналог', 'Similarity_Score': 0.6667}, 'НИ-IS0022070': {'Candidate_Name': 'Метчик ловильный гладкий ЛМГ 30-44 с присоединительной резьбой З-38 ЛМГ 00.00.000ТУ', 'Relation_Type': 'близкий аналог', 'Similarity_Score': 0.6667}, 'НИ-IS0022071': {'Candidate_Name': 'Метчик ловильный гладкий ЛМГ 54-68 с присоединительной резьбой З-66 ЛМГ 00.00.000ТУ', 'Relation_Type': 'близкий аналог', 'Similarity_Score': 0.6667}, 'НИ-IS0022072': {'Candidate_Name': 'Метчик ловильный гладкий ЛМГ 62-76 с присоединительной резьбой З-66 ЛМГ 00.00.000ТУ', 'Relation_Type': 'близкий аналог', 'Similarity_Score': 0.6667}, 'НИ-IS0022073': {'Candidate_Name': 'Метчик ловильный гладкий ЛМГ 70-84 с присоединительной резьбой З-73 ЛМГ 00.00.000ТУ', 'Relation_Type': 'близкий аналог', 'Similarity_Score': 0.6667}, 'НИ-IS0022074': {'Candidate_Name': 'Метчик ловильный гладкий ЛМГ 76-90 с присоединительной резьбой З-76 ЛМГ 00.00.000ТУ', 'Relation_Type': 'близкий аналог', 'Similarity_Score': 0.6667}, 'НИ-IS0022075': {'Candidate_Name': 'Метчик ловильный гладкий ЛМГ 104-118 с присоединительной резьбой З-117 ЛМГ 00.00.000ТУ', 'Relation_Type': 'близкий аналог', 'Similarity_Score': 0.6667}, 'НИ-IS0022076': {'Candidate_Name': 'Метчик ловильный гладкий ЛМГ 108-126 с присоединительной резьбой З-117 ЛМГ 00.00.000ТУ', 'Relation_Type': 'близкий аналог', 'Similarity_Score': 0.6667}, 'Ц00000000980': {'Candidate_Name': 'Метчик ловильный универсальный МБУ 32-73 с присоединительной резьбой З-88', 'Relation_Type': 'близкий аналог', 'Similarity_Score': 0.6667}, 'Ц00000000981': {'Candidate_Name': 'Метчик ловильный универсальный МБУ 32-73Л с присоединительной резьбой З-88Л', 'Relation_Type': 'близкий аналог', 'Similarity_Score': 0.6667}, 'Ц0000040034': {'Candidate_Name': 'Метчик ловильный универсальный МБУ 127-164Л с присоединительной резьбой З-171Л', 'Relation_Type': 'близкий аналог', 'Similarity_Score': 0.6667}, 'Ц0000048106': {'Candidate_Name': 'Метчик ловильный универсальный МБУ 32-73Л с присоединительной резьбой З-86', 'Relation_Type': 'близкий аналог', 'Similarity_Score': 0.6667}, 'Ц0000079125': {'Candidate_Name': 'Метчик ловильный универсальный МБУ 45-85 с присоединительной резьбой З-86 Л', 'Relation_Type': 'близкий аналог', 'Similarity_Score': 0.6667}, 'Ц0000081461': {'Candidate_Name': 'Метчик ловильный ЛМ 45-85 с присоединительной резьбой З-86 Л', 'Relation_Type': 'дубль', 'Similarity_Score': 1.0}, 'Ц0000081481': {'Candidate_Name': 'Метчик ловильный ЛМ 80-125 с присоединительной резьбой З-102 Л', 'Relation_Type': 'дубль', 'Similarity_Score': 1.0}, 'Ц0000081485': {'Candidate_Name': 'Метчик ловильный ЛМ 90-135 с присоединительной резьбой З-102 Л', 'Relation_Type': 'дубль', 'Similarity_Score': 1.0}, 'Ц0000081517': {'Candidate_Name': 'Метчик ловильный универсальный МБУ 100-142 с присоединительной резьбой З-171 Л', 'Relation_Type': 'близкий аналог', 'Similarity_Score': 0.6667}, 'Ц0000100390': {'Candidate_Name': 'Метчик ловильный универсальный МБУ 127-164 с присоединительной резьбой З-171', 'Relation_Type': 'близкий аналог', 'Similarity_Score': 0.6667}, 'Ц0000133004': {'Candidate_Name': 'Метчик ловильный универсальный МБУ 32-73Л с присоединительной резьбой З-102Л', 'Relation_Type': 'близкий аналог', 'Similarity_Score': 0.6667}, 'Ц0000133005': {'Candidate_Name': 'Метчик ловильный универсальный МБУ 32-73 с присоединительной резьбой З-102', 'Relation_Type': 'близкий аналог', 'Similarity_Score': 0.6667}}\n",
      "#0000004158 {'М00000001691': {'Candidate_Name': 'Отвертка', 'Relation_Type': 'дубль', 'Similarity_Score': 1.0}, 'Ц0000020443': {'Candidate_Name': 'Отвертка 7810-0972 ГОСТ 17199-88', 'Relation_Type': 'дубль', 'Similarity_Score': 1.0}, 'Ц0000023417': {'Candidate_Name': 'Отвертка 7810-0989 3В 1 Ц15Х ГОСТ 17199-88', 'Relation_Type': 'дубль', 'Similarity_Score': 1.0}, 'Ц0000042551': {'Candidate_Name': 'Отвертка 7810-0982 ГОСТ 17199-88', 'Relation_Type': 'дубль', 'Similarity_Score': 1.0}, 'Ц0000042552': {'Candidate_Name': 'Отвертка 7810-1062 ГОСТ 17199-88', 'Relation_Type': 'дубль', 'Similarity_Score': 1.0}, 'Ц0000118459': {'Candidate_Name': 'Отвертка 7810-0972 слесарно-монтажная', 'Relation_Type': 'возможный аналог', 'Similarity_Score': 0.5}, 'Ц0000118460': {'Candidate_Name': 'Отвертка 7810-0982 слесарно-монтажная', 'Relation_Type': 'возможный аналог', 'Similarity_Score': 0.5}, 'Ц0000118465': {'Candidate_Name': 'Отвертка 2х150мм плоская', 'Relation_Type': 'возможный аналог', 'Similarity_Score': 0.5}, 'Ц0000118467': {'Candidate_Name': 'Отвертка 12х243мм торцевая', 'Relation_Type': 'возможный аналог', 'Similarity_Score': 0.5}, 'Ц0000118496': {'Candidate_Name': 'Отвертка 80мм крестовая', 'Relation_Type': 'возможный аналог', 'Similarity_Score': 0.5}, 'Ц0000118499': {'Candidate_Name': 'Отвертка 100мм крестовая', 'Relation_Type': 'возможный аналог', 'Similarity_Score': 0.5}, 'Ц0000118500': {'Candidate_Name': 'Отвертка 150мм крестовая', 'Relation_Type': 'возможный аналог', 'Similarity_Score': 0.5}, 'Ц0000118501': {'Candidate_Name': 'Отвертка 200мм крестовая', 'Relation_Type': 'возможный аналог', 'Similarity_Score': 0.5}, 'Ц0000118503': {'Candidate_Name': 'Отвертка 0х60мм крестовая', 'Relation_Type': 'возможный аналог', 'Similarity_Score': 0.5}, 'Ц0000118504': {'Candidate_Name': 'Отвертка 1х75мм крестовая', 'Relation_Type': 'возможный аналог', 'Similarity_Score': 0.5}, 'Ц0000118505': {'Candidate_Name': 'Отвертка 1х80мм крестовая', 'Relation_Type': 'возможный аналог', 'Similarity_Score': 0.5}, 'Ц0000118507': {'Candidate_Name': 'Отвертка 2х100мм крестовая', 'Relation_Type': 'возможный аналог', 'Similarity_Score': 0.5}, 'Ц0000118508': {'Candidate_Name': 'Отвертка 3х150мм крестовая', 'Relation_Type': 'возможный аналог', 'Similarity_Score': 0.5}, 'Ц0000118509': {'Candidate_Name': 'Отвертка 4х200мм крестовая', 'Relation_Type': 'возможный аналог', 'Similarity_Score': 0.5}}\n",
      "000000000021 {'00000003826': {'Candidate_Name': 'ПОДШИПНИК  5514128 Л', 'Relation_Type': 'дубль', 'Similarity_Score': 1.0}, '00000003835': {'Candidate_Name': 'ПОДШИПНИК  6-7315 А (30315)', 'Relation_Type': 'дубль', 'Similarity_Score': 1.0}, '00000003843': {'Candidate_Name': 'Подшипник 814712К4', 'Relation_Type': 'дубль', 'Similarity_Score': 1.0}, '00000004086': {'Candidate_Name': 'Подшипник 804709', 'Relation_Type': 'дубль', 'Similarity_Score': 1.0}, '00000008981': {'Candidate_Name': 'ПОДШИПНИК ИГОЛЬЧАТЫЙ (108415)', 'Relation_Type': 'возможный аналог', 'Similarity_Score': 0.5}, '00000008982': {'Candidate_Name': 'ПОДШИПНИК ИГОЛЬЧАТЫЙ 108416', 'Relation_Type': 'возможный аналог', 'Similarity_Score': 0.5}, 'АБ0000004271': {'Candidate_Name': 'ПОДШИПНИК 942/25', 'Relation_Type': 'дубль', 'Similarity_Score': 1.0}, 'КБ000006594': {'Candidate_Name': 'Подшипник 4084104 ГОСТ 520-2011', 'Relation_Type': 'дубль', 'Similarity_Score': 1.0}, 'НИ-000030886': {'Candidate_Name': 'Подшипник NA6905', 'Relation_Type': 'дубль', 'Similarity_Score': 1.0}, 'НИ-000037538': {'Candidate_Name': 'Подшипник INA NKI85/26', 'Relation_Type': 'возможный аналог', 'Similarity_Score': 0.5}, 'НИ-000037541': {'Candidate_Name': 'Подшипник 4354113 ГОСТ 4657-2022', 'Relation_Type': 'дубль', 'Similarity_Score': 1.0}, 'НИ-000046521': {'Candidate_Name': 'Подшипник SKF RNA4848', 'Relation_Type': 'возможный аналог', 'Similarity_Score': 0.5}, 'НИ-000046533': {'Candidate_Name': 'Подшипник SKF RNA4856', 'Relation_Type': 'возможный аналог', 'Similarity_Score': 0.5}, 'НИ-IS0001663': {'Candidate_Name': 'Подшипник NTN MR142216 4547359103465', 'Relation_Type': 'возможный аналог', 'Similarity_Score': 0.5}, 'НИ-IS0001664': {'Candidate_Name': 'Подшипник NTN MR202816 4547359103540', 'Relation_Type': 'возможный аналог', 'Similarity_Score': 0.5}, 'НИ-IS0027560': {'Candidate_Name': 'Подшипник NSK HR-32222-J', 'Relation_Type': 'возможный аналог', 'Similarity_Score': 0.5}, 'ОБ0000000300': {'Candidate_Name': 'Подшипник 4074105 ГОСТ 4657-82', 'Relation_Type': 'дубль', 'Similarity_Score': 1.0}, 'Ц00000009426': {'Candidate_Name': 'ПОДШИПНИК ИГОЛЬЧ.Ф-92', 'Relation_Type': 'дубль', 'Similarity_Score': 1.0}, 'Ц0000015944': {'Candidate_Name': 'Подшипник NK30/20', 'Relation_Type': 'дубль', 'Similarity_Score': 1.0}, 'Ц0000023073': {'Candidate_Name': 'Подшипник NA4912', 'Relation_Type': 'дубль', 'Similarity_Score': 1.0}, 'Ц0000055309': {'Candidate_Name': 'Подшипник HJ-283720', 'Relation_Type': 'дубль', 'Similarity_Score': 1.0}, 'Ц0000085816': {'Candidate_Name': 'Подшипник HJ-142216', 'Relation_Type': 'дубль', 'Similarity_Score': 1.0}, 'Ц0000094089': {'Candidate_Name': 'Подшипник Timken IR-324024', 'Relation_Type': 'возможный аналог', 'Similarity_Score': 0.5}, 'Ц0000096861': {'Candidate_Name': 'ПОДШИПНИК 254703', 'Relation_Type': 'дубль', 'Similarity_Score': 1.0}, 'Ц0000137358': {'Candidate_Name': 'Подшипник IKO BR 14221645095  (0101175)', 'Relation_Type': 'возможный аналог', 'Similarity_Score': 0.5}, 'Ц0000139551': {'Candidate_Name': 'Подшипник 4084106 ГОСТ 4657-82', 'Relation_Type': 'дубль', 'Similarity_Score': 1.0}, 'Ц0000139555': {'Candidate_Name': 'Подшипник 644907 ГОСТ 4657-82', 'Relation_Type': 'дубль', 'Similarity_Score': 1.0}}\n",
      "00000000096 {'00000003111': {'Candidate_Name': 'ВТУЛКА  21044018 ( 6 ЧН)', 'Relation_Type': 'дубль', 'Similarity_Score': 1.0}, 'КБ000004542': {'Candidate_Name': 'ВТУЛКА 21441', 'Relation_Type': 'дубль', 'Similarity_Score': 1.0}, 'МСКН0039220': {'Candidate_Name': 'Втулка 07177-07515', 'Relation_Type': 'дубль', 'Similarity_Score': 1.0}, 'НИ-000001642': {'Candidate_Name': 'Втулка 115-4072', 'Relation_Type': 'дубль', 'Similarity_Score': 1.0}, 'НИ-000002004': {'Candidate_Name': 'Втулка 21-19-3', 'Relation_Type': 'дубль', 'Similarity_Score': 1.0}, 'НИ-000006545': {'Candidate_Name': 'Втулка стабилизатора 48815-0K090', 'Relation_Type': 'возможный аналог', 'Similarity_Score': 0.5}, 'НИ-000007388': {'Candidate_Name': 'Втулка 20-19-18', 'Relation_Type': 'дубль', 'Similarity_Score': 1.0}, 'НИ-000008259': {'Candidate_Name': 'Втулка амортизатора  3160-2905432-01', 'Relation_Type': 'возможный аналог', 'Similarity_Score': 0.5}, 'НИ-000008773': {'Candidate_Name': 'Втулка стабилизатора 40699', 'Relation_Type': 'возможный аналог', 'Similarity_Score': 0.5}, 'НИ-000009554': {'Candidate_Name': 'Втулка 131-4428', 'Relation_Type': 'дубль', 'Similarity_Score': 1.0}, 'НИ-000010816': {'Candidate_Name': 'Втулка 011501-93-2', 'Relation_Type': 'дубль', 'Similarity_Score': 1.0}, 'НИ-000017186': {'Candidate_Name': 'Втулка  К41-025-5078', 'Relation_Type': 'дубль', 'Similarity_Score': 1.0}, 'НИ-000023002': {'Candidate_Name': 'Втулка 01-04-8229022-00-00', 'Relation_Type': 'дубль', 'Similarity_Score': 1.0}, 'НИ-000023069': {'Candidate_Name': 'Втулка 100 01-04-8223077-00-00', 'Relation_Type': 'дубль', 'Similarity_Score': 1.0}, 'НИ-000023070': {'Candidate_Name': 'Втулка 103 01-04-8223088-00-00', 'Relation_Type': 'дубль', 'Similarity_Score': 1.0}, 'НИ-000023071': {'Candidate_Name': 'Втулка 105 01-04-8223078-00-00', 'Relation_Type': 'дубль', 'Similarity_Score': 1.0}, 'НИ-000041309': {'Candidate_Name': 'Втулка 222-30-00014 Shantui', 'Relation_Type': 'возможный аналог', 'Similarity_Score': 0.5}, 'НИ-000049967': {'Candidate_Name': 'Втулка 100 01-04-8223087-00-00', 'Relation_Type': 'дубль', 'Similarity_Score': 1.0}, 'НИ-IS0002415': {'Candidate_Name': 'Втулка 01-04-8220017-00-00', 'Relation_Type': 'дубль', 'Similarity_Score': 1.0}, 'НИ-IS0007228': {'Candidate_Name': 'Втулка 154-30-12170', 'Relation_Type': 'дубль', 'Similarity_Score': 1.0}, 'Ц0000066246': {'Candidate_Name': 'Втулка АФНИ.753691.004', 'Relation_Type': 'дубль', 'Similarity_Score': 1.0}, 'Ц0000133476': {'Candidate_Name': 'Втулка 207-70-32150', 'Relation_Type': 'дубль', 'Similarity_Score': 1.0}, 'Ц0000133477': {'Candidate_Name': 'Втулка 207-70-32140', 'Relation_Type': 'дубль', 'Similarity_Score': 1.0}}\n",
      "00000000105 {'КБ000000193': {'Candidate_Name': 'Втулка цилиндровая 100мм АФНИ.715441.001-02', 'Relation_Type': 'дубль', 'Similarity_Score': 1.0}, 'КБ000000746': {'Candidate_Name': 'Втулка цилиндровая 115мм АФНИ.715441.001-03', 'Relation_Type': 'дубль', 'Similarity_Score': 1.0}, 'КБ000003761': {'Candidate_Name': 'Втулка цилиндровая 90мм НБ32.02.020-02', 'Relation_Type': 'дубль', 'Similarity_Score': 1.0}, 'НИ-000032158': {'Candidate_Name': 'Втулка 4ГМ2,5-10/251 9-1-2 для ТГА-10/251', 'Relation_Type': 'возможный аналог', 'Similarity_Score': 0.5}, 'НИ-000032275': {'Candidate_Name': 'Втулка 714442.002 для ТГА-10/251', 'Relation_Type': 'возможный аналог', 'Similarity_Score': 0.5}, 'НИ-IS0007154': {'Candidate_Name': 'Втулка цилиндровая 90мм НБ32.02.020-02', 'Relation_Type': 'дубль', 'Similarity_Score': 1.0}, 'НИ-IS0007155': {'Candidate_Name': 'Втулка цилиндровая 120мм НБ32.02.102-03', 'Relation_Type': 'дубль', 'Similarity_Score': 1.0}, 'НИ-IS0045092': {'Candidate_Name': 'Втулка цилиндровая D90мм для НБ125', 'Relation_Type': 'дубль', 'Similarity_Score': 1.0}, 'НИ-IS0045093': {'Candidate_Name': 'Втулка цилиндровая D100мм для НБ125', 'Relation_Type': 'дубль', 'Similarity_Score': 1.0}, 'НИ-IS0045094': {'Candidate_Name': 'Втулка цилиндровая D115мм для НБ125', 'Relation_Type': 'дубль', 'Similarity_Score': 1.0}, 'НИ-IS0045095': {'Candidate_Name': 'Втулка цилиндровая D127мм для НБ125', 'Relation_Type': 'дубль', 'Similarity_Score': 1.0}, 'Ц00000048020': {'Candidate_Name': 'Втулка цилиндровая 127мм АФНИ.715441.001-04', 'Relation_Type': 'дубль', 'Similarity_Score': 1.0}, 'Ц0000058639': {'Candidate_Name': 'Втулка цилиндровая D90 НБ32.02.020-02', 'Relation_Type': 'дубль', 'Similarity_Score': 1.0}, 'Ц0000058640': {'Candidate_Name': 'Втулка цилиндровая D100 НБ32.02.020-03', 'Relation_Type': 'дубль', 'Similarity_Score': 1.0}, 'Ц0000064512': {'Candidate_Name': 'Втулка цилиндровая 6 3/4\" насоса 3PN-2000', 'Relation_Type': 'близкий аналог', 'Similarity_Score': 0.6667}, 'Ц0000072050': {'Candidate_Name': 'Втулка 71.4442.002', 'Relation_Type': 'возможный аналог', 'Similarity_Score': 0.5}, 'Ц0000091601': {'Candidate_Name': 'Втулка цилиндровая 100мм АФНИ.715441.001-02', 'Relation_Type': 'дубль', 'Similarity_Score': 1.0}, 'Ц0000126164': {'Candidate_Name': 'Втулка цилиндровая D90 АНД.715441.001-01', 'Relation_Type': 'дубль', 'Similarity_Score': 1.0}, 'Ц0000139473': {'Candidate_Name': 'Втулка ОП.002.03.18', 'Relation_Type': 'возможный аналог', 'Similarity_Score': 0.5}, 'ЦЦС00006556': {'Candidate_Name': 'Втулка цилиндровая 90мм АФНИ.715441.001-01', 'Relation_Type': 'дубль', 'Similarity_Score': 1.0}, 'ЦЦС00009187': {'Candidate_Name': 'Втулка цилиндровая 115мм АФНИ.715441.001-03', 'Relation_Type': 'дубль', 'Similarity_Score': 1.0}}\n",
      "00000000250 {'НИ-IS0004113': {'Candidate_Name': 'Золотник ГСЭ.004.03', 'Relation_Type': 'дубль', 'Similarity_Score': 1.0}}\n",
      "00000000268 {'НИ-000044665': {'Candidate_Name': 'Мембрана GT2.AE.190.005.05', 'Relation_Type': 'возможный аналог', 'Similarity_Score': 0.5}, 'НИ-IS0020290': {'Candidate_Name': 'Мембрана 94615-G', 'Relation_Type': 'возможный аналог', 'Similarity_Score': 0.5}, 'Ц0000133206': {'Candidate_Name': 'Мембрана 6-200-15-3', 'Relation_Type': 'возможный аналог', 'Similarity_Score': 0.5}, 'ЦЦС00009194': {'Candidate_Name': 'Мембрана 4АН.3.53.3', 'Relation_Type': 'возможный аналог', 'Similarity_Score': 0.5}}\n",
      "00000000278 {'00000000279': {'Candidate_Name': 'ПЛАН ПЕРЕДАЧ.6Р12С00', 'Relation_Type': 'дубль', 'Similarity_Score': 1.0}}\n",
      "00000000279 {'00000000278': {'Candidate_Name': 'ПЛАН ПЕРЕДАЧ.4Р12С00', 'Relation_Type': 'дубль', 'Similarity_Score': 1.0}}\n",
      "000000003 {'НИ-000015372': {'Candidate_Name': 'Лопата снеговая Инструм-Агро 54289', 'Relation_Type': 'близкий аналог', 'Similarity_Score': 0.6667}, 'НИ-000022416': {'Candidate_Name': 'Лопата снеговая Finland широкая 500х350мм', 'Relation_Type': 'возможный аналог', 'Similarity_Score': 0.5}, 'НИ-000031814': {'Candidate_Name': 'Лопата снеговая 78001 AMIGO', 'Relation_Type': 'близкий аналог', 'Similarity_Score': 0.6667}, 'НИ-IS0004324': {'Candidate_Name': 'Лопата снеговая 330х360мм оцинкованная', 'Relation_Type': 'близкий аналог', 'Similarity_Score': 0.6667}, 'НИ-IS0026431': {'Candidate_Name': 'Лопата снеговая автомобильная Finland 275х205х700мм 1904', 'Relation_Type': 'возможный аналог', 'Similarity_Score': 0.5}, 'НИ-IS0026469': {'Candidate_Name': 'Лопата снеговая Finland 500х1470мм с черенком 1358-Ч', 'Relation_Type': 'возможный аналог', 'Similarity_Score': 0.5}, 'НИ-IS0033414': {'Candidate_Name': 'Лопата снеговая Amigo полипропилен 45см 78016', 'Relation_Type': 'возможный аналог', 'Similarity_Score': 0.5}, 'Ц0000053847': {'Candidate_Name': 'Лопата снеговая автомобильная пластик', 'Relation_Type': 'возможный аналог', 'Similarity_Score': 0.5}, 'Ц0000089971': {'Candidate_Name': 'Лопата снеговая', 'Relation_Type': 'дубль', 'Similarity_Score': 1.0}, 'Ц0000113923': {'Candidate_Name': 'Лопата снеговая Finland алюминиевая 1841-Ч', 'Relation_Type': 'возможный аналог', 'Similarity_Score': 0.5}}\n"
     ]
    }
   ],
   "source": [
    "buffer_analog_tree = {}\n",
    "n = 10\n",
    "for key, analogs in buffer_analog.items():\n",
    "    print(key, analogs)\n",
    "    n -= 1\n",
    "    if not n:\n",
    "        break"
   ]
  },
  {
   "cell_type": "code",
   "execution_count": null,
   "id": "f5e8ac60",
   "metadata": {},
   "outputs": [],
   "source": [
    "filename = \"searh_results.txt\"\n",
    "with open(filename, \"w\") as f:\n",
    "    for key, analogs in buffer_analog.items():\n",
    "        # if len(analogs) > 10\n",
    "        name = df_name_candidade[df_name_candidade[\"Код\"] == key][\"Raw_Name\"].values[0]\n",
    "        # print(key, name)\n",
    "        # print(\"-\" * 100)\n",
    "        message = f\"{key} - {name}\\n\"\n",
    "        message += \"-\" * 100 + \"\\n\"\n",
    "        for id, analog in analogs.items():\n",
    "            message += f\"  {id} - {analog['Candidate_Name']} {analog['Similarity_Score']}\\n\"\n",
    "            # print(id, analog)\n",
    "        message += \"=\" * 100 + \"\\n\"\n",
    "        # print(\"=\" * 100)\n",
    "        f.write(message)\n"
   ]
  },
  {
   "cell_type": "code",
   "execution_count": null,
   "id": "bac048cd",
   "metadata": {},
   "outputs": [],
   "source": [
    "key_buffer = {}\n",
    "\n",
    "for key, analogs in buffer_analog.items():\n",
    "    key_split = key.split(\"-\")\n",
    "\n",
    "    if len(key_split[0]) <= 2:\n",
    "        key_split = key_split[0] + \"-\" + key_split[1]\n",
    "    else:\n",
    "        key_split = key_split[0]\n",
    "\n",
    "    key_buffer.setdefault(key_split, -100)\n",
    "    \n",
    "    for key in analogs.keys():\n",
    "        key_buffer.setdefault(key, 0)\n",
    "        key_buffer[key] += 1"
   ]
  },
  {
   "cell_type": "code",
   "execution_count": null,
   "id": "24551cc7",
   "metadata": {},
   "outputs": [],
   "source": [
    "# for key, count in key_buffer.items():\n",
    "#     if count < 0 and count != -100:\n",
    "#         print(key, count)"
   ]
  },
  {
   "cell_type": "code",
   "execution_count": null,
   "id": "f630b80c",
   "metadata": {},
   "outputs": [],
   "source": [
    "not_analogs_id = []\n",
    "\n",
    "for i, row in original_data.iterrows():\n",
    "    if key_buffer.get(row[\"Код\"]):\n",
    "        continue\n",
    "    not_analogs_id.append(row[\"Код\"])\n",
    "\n",
    "print(len(not_analogs_id))\n",
    "\n",
    "# not_analogs_id = []\n",
    "\n",
    "# for key in key_buffer.keys():\n",
    "#     if len(original_data[original_data[\"Код\"] == key]) == 0:\n",
    "#         not_analogs_id.append(key)\n",
    "\n",
    "# print(len(not_analogs_id))"
   ]
  },
  {
   "cell_type": "code",
   "execution_count": null,
   "id": "e59bc79c",
   "metadata": {},
   "outputs": [],
   "source": [
    "buffer_name = {}\n",
    "for i, row in original_data.iterrows():\n",
    "    if row[\"Код\"] in not_analogs_id:\n",
    "        # print(row[\"Код\"])\n",
    "        # print(row[\"Наименование\"])\n",
    "        buffer_name[row[\"Код\"]] = row[\"Наименование\"]\n",
    "        # print(\"=\" * 100)"
   ]
  },
  {
   "cell_type": "code",
   "execution_count": null,
   "id": "261133bb",
   "metadata": {},
   "outputs": [],
   "source": [
    "buffer_name = sorted(buffer_name.items(), key=lambda x: x[1])\n",
    "\n",
    "for key, name in buffer_name:\n",
    "    print(key, name)"
   ]
  },
  {
   "cell_type": "code",
   "execution_count": null,
   "id": "0a5e52d2",
   "metadata": {},
   "outputs": [],
   "source": [
    "import spacy\n",
    "from spacy.tokens import Span\n",
    "from spacy.pipeline import EntityRuler\n",
    "\n",
    "nlp = spacy.load(\"ru_core_news_sm\", disable=[\"ner\"]) \n",
    "ruler = nlp.add_pipe(\"entity_ruler\")\n",
    "\n",
    "regex_patterns = [\n",
    "    {\"label\": \"MODEL\", \"pattern\": [{\"TEXT\": {\"REGEX\": r\"[A-ZА-Я]{2,}-\\d{2,}\"}}]},\n",
    "    {\"label\": \"MODEL\", \"pattern\": [{\"TEXT\": {\"REGEX\": r\"[A-ZА-Я]{2,}\\s?\\d{2,,}[A-ZА-Я]*\"}}]},\n",
    "    {\"label\": \"MODEL\", \"pattern\": [{\"TEXT\": {\"REGEX\": r\"\\d{2,}/\\d{1,}(-\\d+)?\"}}]},\n",
    "]\n",
    "\n",
    "brands = [\n",
    "    \"Sanfor\", \"Санфор\", \"Reoflex\", \"CoolStream\", \"Персил\", \"Dallas Lock\", \"Ugreen\",\n",
    "    \"Honor\", \"Huawei\", \"IEK\", \"GRASS\", \"Mаяк\", \"МаякРоссия\", \"Chint\", \"ANDELI\",\n",
    "    \"AlisaFox\", \"Delta\", \"Kraft\", \"Neox\", \"Osairous\", \"Yealink\", \"Active Foam\",\n",
    "    \"EASYLock\", \"Биолан\"\n",
    "]\n",
    "\n",
    "brand_patterns = [{\"label\": \"MODEL\", \"pattern\": brand} for brand in brands]\n",
    "\n",
    "ruler.add_patterns(regex_patterns + brand_patterns)"
   ]
  },
  {
   "cell_type": "code",
   "execution_count": null,
   "id": "e1e4d87c",
   "metadata": {},
   "outputs": [],
   "source": [
    "# Пример текста\n",
    "# text = \"Светильник LED панель 50W 6500k IP40 1200мм ДПО-108 Призма Neox\"\n",
    "n = 50\n",
    "buffer_models = {}\n",
    "df_result = {\"Raw_Name\": [], \"Models\": []}\n",
    "for i, row in proccessed_data.iterrows():\n",
    "    text = row[\"Normalized_Name\"]\n",
    "    # Обработка\n",
    "    # print(text)\n",
    "    df_result[\"Raw_Name\"].append(row[\"Raw_Name\"])\n",
    "    try:\n",
    "        doc = nlp(text)\n",
    "    except:\n",
    "        # print(\"Error\")\n",
    "        # print(text)\n",
    "        # print(row[\"Raw_Name\"])\n",
    "        # print(\"=\" * 100)\n",
    "        continue\n",
    "    f = False\n",
    "    # Вывод найденных сущностей\n",
    "    for ent in doc.ents:\n",
    "        f = True\n",
    "        break\n",
    "\n",
    "    if not f:\n",
    "        df_result[\"Models\"].append([])\n",
    "        # print(text)\n",
    "        # print(\"=\" * 100)\n",
    "        continue\n",
    "    # print(text)\n",
    "    models = []\n",
    "    for ent in doc.ents:\n",
    "        models.append(ent.text)\n",
    "        buffer_models.setdefault(ent.text, 0)\n",
    "        buffer_models[ent.text] += 1\n",
    "    df_result[\"Models\"].append(models)\n",
    "    #     print(f\"{ent.label_}: {ent.text}\")\n",
    "    # print(\"=\" * 100)\n",
    "    # if n == 0:\n",
    "    #     break\n",
    "\n",
    "    # n -= 1\n",
    "df_models = pd.DataFrame(df_result)\n",
    "df_models.to_csv(data_helper[\"output\"] / \"models.csv\", index=False)"
   ]
  },
  {
   "cell_type": "code",
   "execution_count": null,
   "id": "8a7e5199",
   "metadata": {},
   "outputs": [],
   "source": [
    "buffer_models"
   ]
  },
  {
   "cell_type": "code",
   "execution_count": null,
   "id": "9f904736",
   "metadata": {},
   "outputs": [],
   "source": [
    "train_data = []\n",
    "\n",
    "for i, row in proccessed_data.iterrows():\n",
    "    "
   ]
  },
  {
   "cell_type": "code",
   "execution_count": null,
   "id": "3bc99f93",
   "metadata": {},
   "outputs": [],
   "source": [
    "from transformers import AutoTokenizer\n",
    "from sklearn_crfsuite import CRF\n",
    "\n",
    "tokenizer = AutoTokenizer.from_pretrained(\"DeepPavlov/rubert-base-cased\")\n",
    "\n",
    "# Пример обучающих данных\n",
    "examples = [\n",
    "    (\"Светильник LED панель 50W ДПО-108 Призма\", [\"O\", \"O\", \"O\", \"O\", \"B-MODEL\", \"O\"]),\n",
    "    (\"Насос Wilo RS 25/4-180\", [\"O\", \"O\", \"B-MODEL\", \"I-MODEL\"]),\n",
    "]\n",
    "\n",
    "def extract_features_and_labels(examples):\n",
    "    X = []\n",
    "    y = []\n",
    "    for text, labels in examples:\n",
    "        tokens = text.split()\n",
    "        X.append([{\"word\": tok} for tok in tokens])\n",
    "        y.append(labels)\n",
    "    return X, y\n",
    "\n",
    "X_train, y_train = extract_features_and_labels(examples)\n",
    "\n",
    "crf = CRF()\n",
    "crf.fit(X_train, y_train)"
   ]
  },
  {
   "cell_type": "code",
   "execution_count": null,
   "id": "0744c039",
   "metadata": {},
   "outputs": [],
   "source": [
    "for key, analogs in buffer_analog.items():\n",
    "    # print(key)\n",
    "    if not \"НИ-IS0046032\" in key:\n",
    "        continue\n",
    "\n",
    "    print(key)\n",
    "    print(\"-\" * 100)\n",
    "    for id, analog in analogs.items():\n",
    "        print(id, analog)\n",
    "    print(\"=\" * 100)"
   ]
  },
  {
   "cell_type": "code",
   "execution_count": null,
   "id": "1358a01b",
   "metadata": {},
   "outputs": [],
   "source": [
    "# pop_analogs_id = []\n",
    "\n",
    "# for key in not_analogs_id:\n",
    "#     for analogs_id in buffer_analog.values():\n",
    "#         if key in analogs_id:\n",
    "#             # print(key)\n",
    "#             # print(\"-\" * 50)\n",
    "#             # print(*analogs_id, sep=\"\\n\")\n",
    "#             # print(\"=\" * 100)\n",
    "#             pop_analogs_id.append(key)\n",
    "#             break\n",
    "\n",
    "# print(len(not_analogs_id) - len(pop_analogs_id))"
   ]
  },
  {
   "cell_type": "code",
   "execution_count": null,
   "id": "2fa9893a",
   "metadata": {},
   "outputs": [],
   "source": [
    "for key, item in buffer_analog.items():\n",
    "    if \"00000000096\" in key:\n",
    "        print(key)\n",
    "        print(\"-\" * 50)\n",
    "        for key, analog in item.items():\n",
    "            print(key, analog)\n",
    "        print(\"=\" * 100)"
   ]
  },
  {
   "cell_type": "code",
   "execution_count": null,
   "id": "718a7549",
   "metadata": {},
   "outputs": [],
   "source": [
    "for key, item in buffer_analog.items():\n",
    "    if \"НИ-000017186\" in key:\n",
    "        print(key)\n",
    "        print(\"-\" * 50)\n",
    "        for key, analog in item.items():\n",
    "            print(key, analog)\n",
    "        print(\"=\" * 100)"
   ]
  },
  {
   "cell_type": "code",
   "execution_count": null,
   "id": "665c9380",
   "metadata": {},
   "outputs": [],
   "source": [
    "try:\n",
    "    from ipywidgets import interact, widgets\n",
    "    from IPython.display import display, clear_output\n",
    "    import time\n",
    "\n",
    "    def interactive_analog_search(code_query):\n",
    "        \"\"\"Интерактивный поиск аналогов по коду\"\"\"\n",
    "        clear_output(wait=True)\n",
    "        \n",
    "        print(f\"🔍 Поиск аналогов по коду: '{code_query}'\")\n",
    "        print(\"=\" * 60)\n",
    "        \n",
    "        if not code_query.strip():\n",
    "            print(\"❗ Пожалуйста, введите код.\")\n",
    "            return\n",
    "\n",
    "        try:\n",
    "            start_time = time.time()\n",
    "            found_count = 0\n",
    "            \n",
    "            for key, analogs in buffer_analog.items():\n",
    "                if code_query in key:\n",
    "                    found_count += 1\n",
    "                    print(f\"\\n📦 Найдено в ключе: {key}\")\n",
    "                    for analog_code, name in analogs.items():\n",
    "                        score = str(result_data[result_data[\"Candidate_Код\"] == analog_code][\"Similarity_Score\"].values[0])\n",
    "\n",
    "                        print(f\"  🔧 {analog_code} — {name} {score=}\")\n",
    "            \n",
    "            end_time = time.time()\n",
    "            execution_time = end_time - start_time\n",
    "            \n",
    "            print(f\"\\n⏱️ Время выполнения: {execution_time:.4f} секунд\")\n",
    "            print(f\"📊 Найдено совпадений: {found_count}\")\n",
    "            \n",
    "            if found_count == 0:\n",
    "                print(\"❌ Ничего не найдено по введённому коду.\")\n",
    "        \n",
    "        except Exception as e:\n",
    "            print(f\"❌ Ошибка: {str(e)}\")\n",
    "\n",
    "    # === Виджеты ===\n",
    "    code_widget = widgets.Text(\n",
    "        value='',\n",
    "        placeholder='Введите код (например, Ц0000133477)',\n",
    "        description='Код:',\n",
    "        style={'description_width': 'initial'},\n",
    "        layout=widgets.Layout(width='500px')\n",
    "    )\n",
    "\n",
    "    interact(interactive_analog_search, code_query=code_widget)\n",
    "\n",
    "except ImportError:\n",
    "    print(\"⚠️ ipywidgets не установлен. Используйте обычный поиск:\")"
   ]
  },
  {
   "cell_type": "code",
   "execution_count": null,
   "id": "5d0ae2b1",
   "metadata": {},
   "outputs": [],
   "source": [
    "for name, analogs in buffer_analog.items():\n",
    "    print(name)\n",
    "    print(\"-\" * 100)\n",
    "    for id, analog in analogs.items():\n",
    "        print(f\"{id} - {analog}\")\n",
    "    print(\"=\" * 100)"
   ]
  },
  {
   "cell_type": "code",
   "execution_count": null,
   "id": "d8750d03",
   "metadata": {},
   "outputs": [],
   "source": [
    "class Node:\n",
    "    def __init__(self, name):\n",
    "        self.name = name\n",
    "        self.children = []\n",
    "\n",
    "class Tree:\n",
    "\n",
    "    def __init__(self):\n",
    "        self.root = None\n",
    "\n",
    "    def add_node(self, parent_name, child_name):\n",
    "        if not self.root:\n",
    "            self.root = Node(parent_name)\n",
    "        self._add_node_recursive(self.root, parent_name, child_name)\n",
    "\n",
    "    def _add_node_recursive(self, current_node, parent_name, child_name):\n",
    "        if current_node.name == parent_name:\n",
    "            current_node.children.append(Node(child_name))\n",
    "        else:\n",
    "            for child in current_node.children:\n",
    "                self._add_node_recursive(child, parent_name, child_name)"
   ]
  },
  {
   "cell_type": "code",
   "execution_count": null,
   "id": "e6682fe5",
   "metadata": {},
   "outputs": [],
   "source": [
    "df_name_candidade.head()"
   ]
  },
  {
   "cell_type": "code",
   "execution_count": null,
   "id": "28784de8",
   "metadata": {},
   "outputs": [],
   "source": [
    "tree = Tree()\n",
    "buffer = {}\n",
    "for name, analogs in buffer_analog.items():\n",
    "    print(name)\n",
    "    # print(\"-\" * 100)\n",
    "    for id, analog in analogs.items():\n",
    "        analogs_node = df_name_candidade[df_name_candidade[\"Код\"] == id]\n",
    "        # print(\"-\" * 50)\n",
    "        for idx, row in analogs_node.iterrows():\n",
    "            buffer.setdefault(row[\"Raw_Name\"], [])\n",
    "            buffer[row[\"Raw_Name\"]].append(row[\"Candidate_Name\"])\n",
    "        #     print(row[\"Raw_Name\"])\n",
    "        #     print(row[\"Candidate_Name\"])\n",
    "        # print(\"-\" * 50)\n",
    "    # print(\"=\" * 100)\n",
    "print(\"=\" * 100)\n",
    "for key, value in buffer.items():\n",
    "    print(key)\n",
    "    print(\"-\" * 50)\n",
    "    print(*value, sep=\"\\n\")\n",
    "    print(\"=\" * 100)"
   ]
  },
  {
   "cell_type": "code",
   "execution_count": null,
   "id": "335a740a",
   "metadata": {},
   "outputs": [],
   "source": [
    "print([len(value) for key, value in buffer.items()])"
   ]
  },
  {
   "cell_type": "code",
   "execution_count": null,
   "id": "2a3d62e4",
   "metadata": {},
   "outputs": [],
   "source": [
    "buffer_error"
   ]
  },
  {
   "cell_type": "code",
   "execution_count": null,
   "id": "7f7d9f6f",
   "metadata": {},
   "outputs": [],
   "source": [
    "for i, row in original_data.iterrows():\n",
    "    if row[\"Код\"] == \"            \":\n",
    "        print(row[\"Наименование\"])\n",
    "        print(\"=\" * 100)"
   ]
  }
 ],
 "metadata": {
  "kernelspec": {
   "display_name": "same2-0-py3.12",
   "language": "python",
   "name": "python3"
  },
  "language_info": {
   "codemirror_mode": {
    "name": "ipython",
    "version": 3
   },
   "file_extension": ".py",
   "mimetype": "text/x-python",
   "name": "python",
   "nbconvert_exporter": "python",
   "pygments_lexer": "ipython3",
   "version": "3.12.8"
  }
 },
 "nbformat": 4,
 "nbformat_minor": 5
}
