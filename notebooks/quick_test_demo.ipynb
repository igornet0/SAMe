{
 "cells": [
  {
   "cell_type": "markdown",
   "metadata": {},
   "source": [
    "# 🧪 Быстрый тест продвинутых методов поиска SAMe\n",
    "\n",
    "Краткая демонстрация основных возможностей новых методов поиска."
   ]
  },
  {
   "cell_type": "code",
   "execution_count": null,
   "metadata": {},
   "outputs": [],
   "source": [
    "import sys\n",
    "import time\n",
    "from pathlib import Path\n",
    "\n",
    "# Настройка путей\n",
    "notebook_dir = Path.cwd()\n",
    "project_root = notebook_dir.parent\n",
    "sys.path.insert(0, str(project_root))\n",
    "\n",
    "# Импорт модулей SAMe\n",
    "try:\n",
    "    from search_interface import SAMeSearchInterface\n",
    "    print(\"✅ Модули SAMe успешно импортированы\")\n",
    "except ImportError as e:\n",
    "    print(f\"❌ Ошибка импорта: {e}\")"
   ]
  },
  {
   "cell_type": "code",
   "execution_count": null,
   "metadata": {},
   "outputs": [],
   "source": [
    "# Инициализация поискового интерфейса\n",
    "search_interface = SAMeSearchInterface()\n",
    "\n",
    "# Попробуем найти файл данных\n",
    "data_files = [\n",
    "    \"test_final_improvements_output.csv\",\n",
    "    \"test_vectorization_fix_output.csv\",\n",
    "    project_root / \"src\" / \"data\" / \"output\" / \"proccesed2.csv\"\n",
    "]\n",
    "\n",
    "data_file = None\n",
    "for file_path in data_files:\n",
    "    if Path(file_path).exists():\n",
    "        data_file = str(file_path)\n",
    "        break\n",
    "\n",
    "if data_file:\n",
    "    print(f\"📁 Найден файл данных: {data_file}\")\n",
    "    success = search_interface.initialize(data_file)\n",
    "    if success:\n",
    "        print(\"✅ Инициализация успешна\")\n",
    "    else:\n",
    "        print(\"❌ Ошибка инициализации\")\n",
    "else:\n",
    "    print(\"❌ Файл данных не найден\")\n",
    "    print(\"Доступные CSV файлы:\")\n",
    "    for f in project_root.glob(\"*.csv\"):\n",
    "        print(f\"  - {f.name}\")"
   ]
  },
  {
   "cell_type": "code",
   "execution_count": null,
   "metadata": {},
   "outputs": [],
   "source": [
    "# Быстрый тест разных методов поиска\n",
    "if search_interface.is_ready:\n",
    "    test_query = \"светильник LED\"\n",
    "    methods_to_test = [\"advanced_hybrid\", \"semantic\", \"token_id\", \"prefix\", \"tfidf\"]\n",
    "    \n",
    "    print(f\"🔍 Тестируем запрос: '{test_query}'\")\n",
    "    print(\"=\" * 50)\n",
    "    \n",
    "    for method in methods_to_test:\n",
    "        try:\n",
    "            start_time = time.time()\n",
    "            results = search_interface.search_by_method(test_query, method, top_k=3)\n",
    "            end_time = time.time()\n",
    "            \n",
    "            print(f\"\\n🔧 {method.upper()}:\")\n",
    "            print(f\"   ⏱️ Время: {end_time - start_time:.4f}с\")\n",
    "            print(f\"   📊 Результатов: {len(results)}\")\n",
    "            \n",
    "            if results:\n",
    "                print(f\"   🏆 Лучший результат: {results[0].raw_name} (оценка: {results[0].score:.3f})\")\n",
    "            else:\n",
    "                print(\"   ❌ Результаты не найдены\")\n",
    "                \n",
    "        except Exception as e:\n",
    "            print(f\"\\n🔧 {method.upper()}: ❌ Ошибка - {str(e)[:50]}...\")\n",
    "    \n",
    "    # Показываем статистику\n",
    "    stats = search_interface.get_stats()\n",
    "    print(f\"\\n📊 Статистика системы:\")\n",
    "    print(f\"   📦 Записей: {stats.get('total_records', 'N/A')}\")\n",
    "    print(f\"   🔤 Токенов: {stats.get('unique_token_ids', 'N/A')}\")\n",
    "    print(f\"   🧠 Эмбеддинги: {stats.get('embeddings_available', False)}\")\n",
    "    \n",
    "    advanced_methods = stats.get('advanced_search_methods', {})\n",
    "    available_methods = [k.replace('_available', '') for k, v in advanced_methods.items() if v]\n",
    "    print(f\"   🚀 Доступные методы: {', '.join(available_methods)}\")\n",
    "    \n",
    "else:\n",
    "    print(\"❌ Поисковый интерфейс не готов\")"
   ]
  },
  {
   "cell_type": "markdown",
   "metadata": {},
   "source": [
    "## ✅ Результат\n",
    "\n",
    "Если все методы работают корректно, вы увидите результаты поиска для каждого алгоритма.\n",
    "\n",
    "**Для полной демонстрации откройте `advanced_search_methods_demo.ipynb`**"
   ]
  }
 ],
 "metadata": {
  "kernelspec": {
   "display_name": "Python 3",
   "language": "python",
   "name": "python3"
  },
  "language_info": {
   "codemirror_mode": {
    "name": "ipython",
    "version": 3
   },
   "file_extension": ".py",
   "mimetype": "text/x-python",
   "name": "python",
   "nbconvert_exporter": "python",
   "pygments_lexer": "ipython3",
   "version": "3.9.0"
  }
 },
 "nbformat": 4,
 "nbformat_minor": 4
}
