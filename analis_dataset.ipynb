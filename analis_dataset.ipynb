{
 "cells": [
  {
   "cell_type": "code",
   "execution_count": 2,
   "id": "b40d9f72",
   "metadata": {},
   "outputs": [],
   "source": [
    "from core.data_manager import data_helper\n",
    "import pandas as pd"
   ]
  },
  {
   "cell_type": "code",
   "execution_count": 16,
   "id": "e2a32635",
   "metadata": {},
   "outputs": [],
   "source": [
    "data = pd.read_excel(data_helper[\"dataset\"] / \"dataset.xlsx\")"
   ]
  },
  {
   "cell_type": "code",
   "execution_count": 5,
   "id": "9c6e3ec9",
   "metadata": {},
   "outputs": [
    {
     "data": {
      "text/plain": [
       "74734"
      ]
     },
     "execution_count": 5,
     "metadata": {},
     "output_type": "execute_result"
    }
   ],
   "source": [
    "len(data)"
   ]
  },
  {
   "cell_type": "code",
   "execution_count": 9,
   "id": "24edd924",
   "metadata": {},
   "outputs": [
    {
     "data": {
      "application/vnd.microsoft.datawrangler.viewer.v0+json": {
       "columns": [
        {
         "name": "index",
         "rawType": "int64",
         "type": "integer"
        },
        {
         "name": "Код МТР",
         "rawType": "object",
         "type": "string"
        },
        {
         "name": "Наименование МТР",
         "rawType": "object",
         "type": "string"
        }
       ],
       "ref": "dfccdd46-7b68-4ae9-b330-a79adea55686",
       "rows": [
        [
         "0",
         "Ц0000138375",
         "    Подшипник, шариковый, с глубокой канавкой, Тип VARCO 30151954         5046101"
        ],
        [
         "1",
         "Ц0000138378",
         "   Подшипник опорный, роликовый, конический, диаметр 21.5\", для СВП TDS-11, Тип VARCO 30120556      5032450"
        ],
        [
         "2",
         "ЦЦС00007695",
         " Жидкость калибровочная вискозиметра Chandler 3500LS, 35-0178"
        ],
        [
         "3",
         "ЦЦС00007696",
         " Жидкость калибровочная вискозиметра P-2838"
        ],
        [
         "4",
         "ЦЦС00007692",
         " Защита подшипника  Chandler 3500LS, 35-0125"
        ]
       ],
       "shape": {
        "columns": 2,
        "rows": 5
       }
      },
      "text/html": [
       "<div>\n",
       "<style scoped>\n",
       "    .dataframe tbody tr th:only-of-type {\n",
       "        vertical-align: middle;\n",
       "    }\n",
       "\n",
       "    .dataframe tbody tr th {\n",
       "        vertical-align: top;\n",
       "    }\n",
       "\n",
       "    .dataframe thead th {\n",
       "        text-align: right;\n",
       "    }\n",
       "</style>\n",
       "<table border=\"1\" class=\"dataframe\">\n",
       "  <thead>\n",
       "    <tr style=\"text-align: right;\">\n",
       "      <th></th>\n",
       "      <th>Код МТР</th>\n",
       "      <th>Наименование МТР</th>\n",
       "    </tr>\n",
       "  </thead>\n",
       "  <tbody>\n",
       "    <tr>\n",
       "      <th>0</th>\n",
       "      <td>Ц0000138375</td>\n",
       "      <td>Подшипник, шариковый, с глубокой канавкой,...</td>\n",
       "    </tr>\n",
       "    <tr>\n",
       "      <th>1</th>\n",
       "      <td>Ц0000138378</td>\n",
       "      <td>Подшипник опорный, роликовый, конический, д...</td>\n",
       "    </tr>\n",
       "    <tr>\n",
       "      <th>2</th>\n",
       "      <td>ЦЦС00007695</td>\n",
       "      <td>Жидкость калибровочная вискозиметра Chandler ...</td>\n",
       "    </tr>\n",
       "    <tr>\n",
       "      <th>3</th>\n",
       "      <td>ЦЦС00007696</td>\n",
       "      <td>Жидкость калибровочная вискозиметра P-2838</td>\n",
       "    </tr>\n",
       "    <tr>\n",
       "      <th>4</th>\n",
       "      <td>ЦЦС00007692</td>\n",
       "      <td>Защита подшипника  Chandler 3500LS, 35-0125</td>\n",
       "    </tr>\n",
       "  </tbody>\n",
       "</table>\n",
       "</div>"
      ],
      "text/plain": [
       "       Код МТР                                   Наименование МТР\n",
       "0  Ц0000138375      Подшипник, шариковый, с глубокой канавкой,...\n",
       "1  Ц0000138378     Подшипник опорный, роликовый, конический, д...\n",
       "2  ЦЦС00007695   Жидкость калибровочная вискозиметра Chandler ...\n",
       "3  ЦЦС00007696         Жидкость калибровочная вискозиметра P-2838\n",
       "4  ЦЦС00007692        Защита подшипника  Chandler 3500LS, 35-0125"
      ]
     },
     "execution_count": 9,
     "metadata": {},
     "output_type": "execute_result"
    }
   ],
   "source": [
    "data.head()"
   ]
  },
  {
   "cell_type": "code",
   "execution_count": 14,
   "id": "f209673f",
   "metadata": {},
   "outputs": [
    {
     "name": "stderr",
     "output_type": "stream",
     "text": [
      "/var/folders/h8/fhfvbn0j38nd4r3z3s719g1m0000gn/T/ipykernel_18921/186027120.py:2: RuntimeWarning: coroutine 'initialize_db_helper' was never awaited\n",
      "  lambda x:x.strip().replace(\"  \", \" \").split(\" \"))\n",
      "RuntimeWarning: Enable tracemalloc to get the object allocation traceback\n"
     ]
    }
   ],
   "source": [
    "data[\"Наименование МТР\"] = data[\"Наименование МТР\"].apply(\n",
    "    lambda x:x.strip().replace(\"  \", \" \").split(\" \"))"
   ]
  },
  {
   "cell_type": "code",
   "execution_count": 15,
   "id": "7a11dd65",
   "metadata": {},
   "outputs": [
    {
     "data": {
      "application/vnd.microsoft.datawrangler.viewer.v0+json": {
       "columns": [
        {
         "name": "index",
         "rawType": "int64",
         "type": "integer"
        },
        {
         "name": "Код МТР",
         "rawType": "object",
         "type": "string"
        },
        {
         "name": "Наименование МТР",
         "rawType": "object",
         "type": "unknown"
        }
       ],
       "ref": "a1c9498f-a56b-43ae-af4e-9a486242bdbe",
       "rows": [
        [
         "0",
         "Ц0000138375",
         "['Подшипник,', 'шариковый,', 'с', 'глубокой', 'канавкой,', 'Тип', 'VARCO', '30151954', '', '', '', '', '5046101']"
        ],
        [
         "1",
         "Ц0000138378",
         "['Подшипник', 'опорный,', 'роликовый,', 'конический,', 'диаметр', '21.5\",', 'для', 'СВП', 'TDS-11,', 'Тип', 'VARCO', '30120556', '', '', '5032450']"
        ],
        [
         "2",
         "ЦЦС00007695",
         "['Жидкость', 'калибровочная', 'вискозиметра', 'Chandler', '3500LS,', '35-0178']"
        ],
        [
         "3",
         "ЦЦС00007696",
         "['Жидкость', 'калибровочная', 'вискозиметра', 'P-2838']"
        ],
        [
         "4",
         "ЦЦС00007692",
         "['Защита', 'подшипника', 'Chandler', '3500LS,', '35-0125']"
        ]
       ],
       "shape": {
        "columns": 2,
        "rows": 5
       }
      },
      "text/html": [
       "<div>\n",
       "<style scoped>\n",
       "    .dataframe tbody tr th:only-of-type {\n",
       "        vertical-align: middle;\n",
       "    }\n",
       "\n",
       "    .dataframe tbody tr th {\n",
       "        vertical-align: top;\n",
       "    }\n",
       "\n",
       "    .dataframe thead th {\n",
       "        text-align: right;\n",
       "    }\n",
       "</style>\n",
       "<table border=\"1\" class=\"dataframe\">\n",
       "  <thead>\n",
       "    <tr style=\"text-align: right;\">\n",
       "      <th></th>\n",
       "      <th>Код МТР</th>\n",
       "      <th>Наименование МТР</th>\n",
       "    </tr>\n",
       "  </thead>\n",
       "  <tbody>\n",
       "    <tr>\n",
       "      <th>0</th>\n",
       "      <td>Ц0000138375</td>\n",
       "      <td>[Подшипник,, шариковый,, с, глубокой, канавкой...</td>\n",
       "    </tr>\n",
       "    <tr>\n",
       "      <th>1</th>\n",
       "      <td>Ц0000138378</td>\n",
       "      <td>[Подшипник, опорный,, роликовый,, конический,,...</td>\n",
       "    </tr>\n",
       "    <tr>\n",
       "      <th>2</th>\n",
       "      <td>ЦЦС00007695</td>\n",
       "      <td>[Жидкость, калибровочная, вискозиметра, Chandl...</td>\n",
       "    </tr>\n",
       "    <tr>\n",
       "      <th>3</th>\n",
       "      <td>ЦЦС00007696</td>\n",
       "      <td>[Жидкость, калибровочная, вискозиметра, P-2838]</td>\n",
       "    </tr>\n",
       "    <tr>\n",
       "      <th>4</th>\n",
       "      <td>ЦЦС00007692</td>\n",
       "      <td>[Защита, подшипника, Chandler, 3500LS,, 35-0125]</td>\n",
       "    </tr>\n",
       "  </tbody>\n",
       "</table>\n",
       "</div>"
      ],
      "text/plain": [
       "       Код МТР                                   Наименование МТР\n",
       "0  Ц0000138375  [Подшипник,, шариковый,, с, глубокой, канавкой...\n",
       "1  Ц0000138378  [Подшипник, опорный,, роликовый,, конический,,...\n",
       "2  ЦЦС00007695  [Жидкость, калибровочная, вискозиметра, Chandl...\n",
       "3  ЦЦС00007696    [Жидкость, калибровочная, вискозиметра, P-2838]\n",
       "4  ЦЦС00007692   [Защита, подшипника, Chandler, 3500LS,, 35-0125]"
      ]
     },
     "execution_count": 15,
     "metadata": {},
     "output_type": "execute_result"
    }
   ],
   "source": [
    "data.head()"
   ]
  },
  {
   "cell_type": "code",
   "execution_count": 21,
   "id": "18ddfc4c",
   "metadata": {},
   "outputs": [],
   "source": [
    "test_mtp = \"Подшипник, шариковый, с глубокой канавкой, Тип VARCO 30151954 5046101\"\n",
    "test_mtp = \"Подшипник\""
   ]
  },
  {
   "cell_type": "code",
   "execution_count": 27,
   "id": "a6a24bae",
   "metadata": {},
   "outputs": [
    {
     "name": "stdout",
     "output_type": "stream",
     "text": [
      "Collecting nltk\n",
      "  Downloading nltk-3.9.1-py3-none-any.whl.metadata (2.9 kB)\n",
      "Requirement already satisfied: click in /Users/igor/Library/Caches/pypoetry/virtualenvs/same-PgMDtfn9-py3.12/lib/python3.12/site-packages (from nltk) (8.2.1)\n",
      "Collecting joblib (from nltk)\n",
      "  Downloading joblib-1.5.1-py3-none-any.whl.metadata (5.6 kB)\n",
      "Collecting regex>=2021.8.3 (from nltk)\n",
      "  Using cached regex-2024.11.6-cp312-cp312-macosx_11_0_arm64.whl.metadata (40 kB)\n",
      "Collecting tqdm (from nltk)\n",
      "  Using cached tqdm-4.67.1-py3-none-any.whl.metadata (57 kB)\n",
      "Downloading nltk-3.9.1-py3-none-any.whl (1.5 MB)\n",
      "\u001b[2K   \u001b[90m━━━━━━━━━━━━━━━━━━━━━━━━━━━━━━━━━━━━━━━━\u001b[0m \u001b[32m1.5/1.5 MB\u001b[0m \u001b[31m2.0 MB/s\u001b[0m eta \u001b[36m0:00:00\u001b[0ma \u001b[36m0:00:01\u001b[0m\n",
      "\u001b[?25hUsing cached regex-2024.11.6-cp312-cp312-macosx_11_0_arm64.whl (284 kB)\n",
      "Downloading joblib-1.5.1-py3-none-any.whl (307 kB)\n",
      "Using cached tqdm-4.67.1-py3-none-any.whl (78 kB)\n",
      "Installing collected packages: tqdm, regex, joblib, nltk\n",
      "Successfully installed joblib-1.5.1 nltk-3.9.1 regex-2024.11.6 tqdm-4.67.1\n",
      "\n",
      "\u001b[1m[\u001b[0m\u001b[34;49mnotice\u001b[0m\u001b[1;39;49m]\u001b[0m\u001b[39;49m A new release of pip is available: \u001b[0m\u001b[31;49m25.0.1\u001b[0m\u001b[39;49m -> \u001b[0m\u001b[32;49m25.1.1\u001b[0m\n",
      "\u001b[1m[\u001b[0m\u001b[34;49mnotice\u001b[0m\u001b[1;39;49m]\u001b[0m\u001b[39;49m To update, run: \u001b[0m\u001b[32;49mpip install --upgrade pip\u001b[0m\n"
     ]
    }
   ],
   "source": [
    "!pip install nltk"
   ]
  },
  {
   "cell_type": "code",
   "execution_count": 29,
   "id": "247cf9fa",
   "metadata": {},
   "outputs": [
    {
     "name": "stderr",
     "output_type": "stream",
     "text": [
      "[nltk_data] Downloading package stopwords to /Users/igor/nltk_data...\n",
      "[nltk_data]   Package stopwords is already up-to-date!\n"
     ]
    }
   ],
   "source": [
    "import nltk\n",
    "from nltk.corpus import stopwords\n",
    "from nltk.stem import SnowballStemmer\n",
    "import re\n",
    "\n",
    "nltk.download('stopwords')\n",
    "russian_stopwords = stopwords.words('russian')\n",
    "stemmer = SnowballStemmer('russian')\n",
    "\n",
    "def preprocess(text):\n",
    "    text = text.lower()\n",
    "    text = re.sub(r'\\d+[.,]?\\d*', '', text)  # удаление чисел\n",
    "    text = re.sub(r'[^\\w\\s]', '', text)       # удаление пунктуации\n",
    "    words = text.split()\n",
    "    words = [w for w in words if len(w) > 2 and w not in russian_stopwords]\n",
    "    words = [stemmer.stem(w) for w in words]  # стемминг\n",
    "    return ' '.join(words)\n",
    "\n",
    "data['processed'] = data['Наименование МТР'].apply(preprocess)"
   ]
  }
 ],
 "metadata": {
  "kernelspec": {
   "display_name": "same-PgMDtfn9-py3.12",
   "language": "python",
   "name": "python3"
  },
  "language_info": {
   "codemirror_mode": {
    "name": "ipython",
    "version": 3
   },
   "file_extension": ".py",
   "mimetype": "text/x-python",
   "name": "python",
   "nbconvert_exporter": "python",
   "pygments_lexer": "ipython3",
   "version": "3.12.8"
  }
 },
 "nbformat": 4,
 "nbformat_minor": 5
}
